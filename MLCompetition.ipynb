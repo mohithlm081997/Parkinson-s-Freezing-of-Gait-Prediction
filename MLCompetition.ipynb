{
  "metadata": {
    "kernelspec": {
      "language": "python",
      "display_name": "Python 3",
      "name": "python3"
    },
    "language_info": {
      "name": "python",
      "version": "3.7.12",
      "mimetype": "text/x-python",
      "codemirror_mode": {
        "name": "ipython",
        "version": 3
      },
      "pygments_lexer": "ipython3",
      "nbconvert_exporter": "python",
      "file_extension": ".py"
    },
    "colab": {
      "provenance": []
    }
  },
  "nbformat_minor": 0,
  "nbformat": 4,
  "cells": [
    {
      "cell_type": "code",
      "source": [
        "!pip install tsflex --no-index --find-links=file:///kaggle/input/time-series-tools\n",
        "!pip install seglearn --no-index --find-links=file:///kaggle/input/time-series-tools"
      ],
      "metadata": {
        "_kg_hide-input": true,
        "_kg_hide-output": true,
        "jupyter": {
          "source_hidden": true
        },
        "execution": {
          "iopub.status.busy": "2023-04-17T02:19:28.139713Z",
          "iopub.execute_input": "2023-04-17T02:19:28.140774Z",
          "iopub.status.idle": "2023-04-17T02:19:53.118792Z",
          "shell.execute_reply.started": "2023-04-17T02:19:28.140717Z",
          "shell.execute_reply": "2023-04-17T02:19:53.117247Z"
        },
        "trusted": true,
        "id": "uhL4XNMTTDbt",
        "outputId": "fc78e5ea-7531-4adb-a6bc-697e54d27999"
      },
      "execution_count": null,
      "outputs": [
        {
          "name": "stdout",
          "text": "Looking in links: file:///kaggle/input/time-series-tools\nProcessing /kaggle/input/time-series-tools/tsflex-0.3.0-py3-none-any.whl\nRequirement already satisfied: multiprocess<0.71.0,>=0.70.12 in /opt/conda/lib/python3.7/site-packages (from tsflex) (0.70.14)\nRequirement already satisfied: numpy<2.0.0,>=1.21.5 in /opt/conda/lib/python3.7/site-packages (from tsflex) (1.21.6)\nRequirement already satisfied: tqdm<5.0.0,>=4.62.3 in /opt/conda/lib/python3.7/site-packages (from tsflex) (4.64.1)\nRequirement already satisfied: pandas<2.0.0,>=1.3.5 in /opt/conda/lib/python3.7/site-packages (from tsflex) (1.3.5)\nRequirement already satisfied: dill<0.4.0,>=0.3.4 in /opt/conda/lib/python3.7/site-packages (from tsflex) (0.3.6)\nRequirement already satisfied: python-dateutil>=2.7.3 in /opt/conda/lib/python3.7/site-packages (from pandas<2.0.0,>=1.3.5->tsflex) (2.8.2)\nRequirement already satisfied: pytz>=2017.3 in /opt/conda/lib/python3.7/site-packages (from pandas<2.0.0,>=1.3.5->tsflex) (2022.7.1)\nRequirement already satisfied: six>=1.5 in /opt/conda/lib/python3.7/site-packages (from python-dateutil>=2.7.3->pandas<2.0.0,>=1.3.5->tsflex) (1.16.0)\nInstalling collected packages: tsflex\nSuccessfully installed tsflex-0.3.0\n\u001b[33mWARNING: Running pip as the 'root' user can result in broken permissions and conflicting behaviour with the system package manager. It is recommended to use a virtual environment instead: https://pip.pypa.io/warnings/venv\u001b[0m\u001b[33m\n\u001b[0mLooking in links: file:///kaggle/input/time-series-tools\nProcessing /kaggle/input/time-series-tools/seglearn-1.2.5-py3-none-any.whl\nRequirement already satisfied: scipy in /opt/conda/lib/python3.7/site-packages (from seglearn) (1.7.3)\nRequirement already satisfied: numpy in /opt/conda/lib/python3.7/site-packages (from seglearn) (1.21.6)\nRequirement already satisfied: scikit-learn>=0.21.3 in /opt/conda/lib/python3.7/site-packages (from seglearn) (1.0.2)\nRequirement already satisfied: joblib>=0.11 in /opt/conda/lib/python3.7/site-packages (from scikit-learn>=0.21.3->seglearn) (1.2.0)\nRequirement already satisfied: threadpoolctl>=2.0.0 in /opt/conda/lib/python3.7/site-packages (from scikit-learn>=0.21.3->seglearn) (3.1.0)\nInstalling collected packages: seglearn\nSuccessfully installed seglearn-1.2.5\n\u001b[33mWARNING: Running pip as the 'root' user can result in broken permissions and conflicting behaviour with the system package manager. It is recommended to use a virtual environment instead: https://pip.pypa.io/warnings/venv\u001b[0m\u001b[33m\n\u001b[0m",
          "output_type": "stream"
        }
      ]
    },
    {
      "cell_type": "markdown",
      "source": [
        "# Data loading and feature extraction"
      ],
      "metadata": {
        "id": "SYsudwKiTDby"
      }
    },
    {
      "cell_type": "markdown",
      "source": [
        "I took help from here https://www.kaggle.com/code/xzj19013742/simple-eda-on-time-for-targets\n",
        "Try  to develop some features"
      ],
      "metadata": {
        "id": "0ZaJg8FWTDb0"
      }
    },
    {
      "cell_type": "markdown",
      "source": [
        "Data Loading"
      ],
      "metadata": {
        "id": "2ek6q2ZNTDb1"
      }
    },
    {
      "cell_type": "code",
      "source": [
        "import numpy as np\n",
        "import pandas as pd\n",
        "from tqdm.auto import tqdm\n",
        "from sklearn import *\n",
        "import glob\n",
        "\n",
        "p = '/kaggle/input/tlvmc-parkinsons-freezing-gait-prediction/'\n",
        "\n",
        "train = glob.glob(p+'train/**/**')\n",
        "test = glob.glob(p+'test/**/**')\n",
        "subjects = pd.read_csv(p+'subjects.csv')\n",
        "tasks = pd.read_csv(p+'tasks.csv')\n",
        "sub = pd.read_csv(p+'sample_submission.csv')\n",
        "\n",
        "tdcsfog_metadata=pd.read_csv('/kaggle/input/tlvmc-parkinsons-freezing-gait-prediction/tdcsfog_metadata.csv')\n",
        "defog_metadata=pd.read_csv('/kaggle/input/tlvmc-parkinsons-freezing-gait-prediction/defog_metadata.csv')\n",
        "tdcsfog_metadata['Module']='tdcsfog'\n",
        "defog_metadata['Module']='defog'\n",
        "metadata=pd.concat([tdcsfog_metadata,defog_metadata]"
      ],
      "metadata": {
        "_uuid": "8f2839f25d086af736a60e9eeb907d3b93b6e0e5",
        "_cell_guid": "b1076dfc-b9ad-4769-8c92-a6c4dae69d19",
        "execution": {
          "iopub.status.busy": "2023-04-17T02:19:53.121524Z",
          "iopub.execute_input": "2023-04-17T02:19:53.121911Z",
          "iopub.status.idle": "2023-04-17T02:19:54.880535Z",
          "shell.execute_reply.started": "2023-04-17T02:19:53.121865Z",
          "shell.execute_reply": "2023-04-17T02:19:54.879199Z"
        },
        "trusted": true,
        "id": "O5omlKkBTDb1"
      },
      "execution_count": null,
      "outputs": []
    },
    {
      "cell_type": "code",
      "source": [
        "metadata.head()"
      ],
      "metadata": {
        "execution": {
          "iopub.status.busy": "2023-04-17T02:19:54.882121Z",
          "iopub.execute_input": "2023-04-17T02:19:54.882872Z",
          "iopub.status.idle": "2023-04-17T02:19:54.911628Z",
          "shell.execute_reply.started": "2023-04-17T02:19:54.882808Z",
          "shell.execute_reply": "2023-04-17T02:19:54.910635Z"
        },
        "trusted": true,
        "id": "ONSSqMQhTDb2",
        "outputId": "c9c497b5-2bd5-450b-c08e-87e7ddbca3ba"
      },
      "execution_count": null,
      "outputs": [
        {
          "execution_count": 3,
          "output_type": "execute_result",
          "data": {
            "text/plain": "           Id Subject  Visit  Test Medication   Module\n0  003f117e14  13abfd      3   2.0         on  tdcsfog\n1  009ee11563  d81e3a      4   2.0         on  tdcsfog\n2  011322847a  203e85      2   2.0         on  tdcsfog\n3  01d0fe7266  203e85      2   1.0        off  tdcsfog\n4  024418ba39  cecfb8     19   3.0         on  tdcsfog",
            "text/html": "<div>\n<style scoped>\n    .dataframe tbody tr th:only-of-type {\n        vertical-align: middle;\n    }\n\n    .dataframe tbody tr th {\n        vertical-align: top;\n    }\n\n    .dataframe thead th {\n        text-align: right;\n    }\n</style>\n<table border=\"1\" class=\"dataframe\">\n  <thead>\n    <tr style=\"text-align: right;\">\n      <th></th>\n      <th>Id</th>\n      <th>Subject</th>\n      <th>Visit</th>\n      <th>Test</th>\n      <th>Medication</th>\n      <th>Module</th>\n    </tr>\n  </thead>\n  <tbody>\n    <tr>\n      <th>0</th>\n      <td>003f117e14</td>\n      <td>13abfd</td>\n      <td>3</td>\n      <td>2.0</td>\n      <td>on</td>\n      <td>tdcsfog</td>\n    </tr>\n    <tr>\n      <th>1</th>\n      <td>009ee11563</td>\n      <td>d81e3a</td>\n      <td>4</td>\n      <td>2.0</td>\n      <td>on</td>\n      <td>tdcsfog</td>\n    </tr>\n    <tr>\n      <th>2</th>\n      <td>011322847a</td>\n      <td>203e85</td>\n      <td>2</td>\n      <td>2.0</td>\n      <td>on</td>\n      <td>tdcsfog</td>\n    </tr>\n    <tr>\n      <th>3</th>\n      <td>01d0fe7266</td>\n      <td>203e85</td>\n      <td>2</td>\n      <td>1.0</td>\n      <td>off</td>\n      <td>tdcsfog</td>\n    </tr>\n    <tr>\n      <th>4</th>\n      <td>024418ba39</td>\n      <td>cecfb8</td>\n      <td>19</td>\n      <td>3.0</td>\n      <td>on</td>\n      <td>tdcsfog</td>\n    </tr>\n  </tbody>\n</table>\n</div>"
          },
          "metadata": {}
        }
      ]
    },
    {
      "cell_type": "code",
      "source": [
        "import pandas as pd\n",
        "from sklearn import cluster\n",
        "\n",
        "def cluster_tasks(tasks):\n",
        "    tasks['Duration'] = tasks['End'] - tasks['Begin']\n",
        "    tasks_pivot = pd.pivot_table(tasks, values=['Duration'], index=['Id'], columns=['Task'], aggfunc='sum', fill_value=0)\n",
        "    tasks_pivot.columns = [c[-1] for c in tasks_pivot.columns]\n",
        "    tasks_pivot = tasks_pivot.reset_index()\n",
        "    tasks_pivot['t_kmeans'] = cluster.KMeans(n_clusters=10, random_state=13).fit_predict(tasks_pivot[tasks_pivot.columns[1:]])\n",
        "    return tasks_pivot\n",
        "\n",
        "def cluster_subjects(subjects):\n",
        "    subjects = subjects.fillna(0).groupby('Subject').median()\n",
        "    subjects = subjects.reset_index()\n",
        "    subjects['s_kmeans'] = cluster.KMeans(n_clusters=10, random_state=3).fit_predict(subjects[subjects.columns[1:]])\n",
        "    subjects = subjects.rename(columns={'Visit':'s_Visit','Age':'s_Age','YearsSinceDx':'s_YearsSinceDx','UPDRSIII_On':'s_UPDRSIII_On','UPDRSIII_Off':'s_UPDRSIII_Off','NFOGQ':'s_NFOGQ'})\n",
        "    return subjects\n",
        "\n",
        "# Example usage:\n",
        "tasks_clustered = cluster_tasks(tasks_data)\n",
        "subjects_clustered = cluster_subjects(subjects_data)"
      ],
      "metadata": {
        "_kg_hide-input": true,
        "execution": {
          "iopub.status.busy": "2023-04-17T02:19:54.913796Z",
          "iopub.execute_input": "2023-04-17T02:19:54.914359Z",
          "iopub.status.idle": "2023-04-17T02:19:55.054105Z",
          "shell.execute_reply.started": "2023-04-17T02:19:54.914326Z",
          "shell.execute_reply": "2023-04-17T02:19:55.053126Z"
        },
        "trusted": true,
        "id": "R4jEAkB7TDb3"
      },
      "execution_count": null,
      "outputs": []
    },
    {
      "cell_type": "code",
      "source": [
        "def create_complex_metadata(metadata, subjects):\n",
        "    complex_featlist = ['Visit', 'Test', 'Medication', 's_Visit', 's_Age', 's_YearsSinceDx', 's_UPDRSIII_On', 's_UPDRSIII_Off', 's_NFOGQ', 's_kmeans']\n",
        "    metadata_complex = metadata.merge(subjects, how='left', on='Subject').copy()\n",
        "    metadata_complex['Medication'] = metadata_complex['Medication'].factorize()[0]\n",
        "    return metadata_complex[complex_featlist]\n",
        "\n",
        "metadata_complex = create_complex_metadata(metadata, subjects)"
      ],
      "metadata": {
        "_kg_hide-input": true,
        "execution": {
          "iopub.status.busy": "2023-04-17T02:19:55.055560Z",
          "iopub.execute_input": "2023-04-17T02:19:55.056230Z",
          "iopub.status.idle": "2023-04-17T02:19:55.071101Z",
          "shell.execute_reply.started": "2023-04-17T02:19:55.056194Z",
          "shell.execute_reply": "2023-04-17T02:19:55.069809Z"
        },
        "trusted": true,
        "id": "_g-JaKxNTDb5"
      },
      "execution_count": null,
      "outputs": []
    },
    {
      "cell_type": "code",
      "source": [
        "!pip install tsflex --no-index --find-links=file:///kaggle/input/time-series-tools\n",
        "!pip install seglearn --no-index --find-links=file:///kaggle/input/time-series-tools"
      ],
      "metadata": {
        "execution": {
          "iopub.status.busy": "2023-04-17T02:19:55.072723Z",
          "iopub.execute_input": "2023-04-17T02:19:55.073121Z",
          "iopub.status.idle": "2023-04-17T02:20:17.643195Z",
          "shell.execute_reply.started": "2023-04-17T02:19:55.073088Z",
          "shell.execute_reply": "2023-04-17T02:20:17.641849Z"
        },
        "trusted": true,
        "id": "SJgy79qzTDb5",
        "outputId": "f3ebb559-a476-4222-b716-d11fba3e6a7b"
      },
      "execution_count": null,
      "outputs": [
        {
          "name": "stdout",
          "text": "Looking in links: file:///kaggle/input/time-series-tools\nRequirement already satisfied: tsflex in /opt/conda/lib/python3.7/site-packages (0.3.0)\nRequirement already satisfied: multiprocess<0.71.0,>=0.70.12 in /opt/conda/lib/python3.7/site-packages (from tsflex) (0.70.14)\nRequirement already satisfied: pandas<2.0.0,>=1.3.5 in /opt/conda/lib/python3.7/site-packages (from tsflex) (1.3.5)\nRequirement already satisfied: tqdm<5.0.0,>=4.62.3 in /opt/conda/lib/python3.7/site-packages (from tsflex) (4.64.1)\nRequirement already satisfied: dill<0.4.0,>=0.3.4 in /opt/conda/lib/python3.7/site-packages (from tsflex) (0.3.6)\nRequirement already satisfied: numpy<2.0.0,>=1.21.5 in /opt/conda/lib/python3.7/site-packages (from tsflex) (1.21.6)\nRequirement already satisfied: pytz>=2017.3 in /opt/conda/lib/python3.7/site-packages (from pandas<2.0.0,>=1.3.5->tsflex) (2022.7.1)\nRequirement already satisfied: python-dateutil>=2.7.3 in /opt/conda/lib/python3.7/site-packages (from pandas<2.0.0,>=1.3.5->tsflex) (2.8.2)\nRequirement already satisfied: six>=1.5 in /opt/conda/lib/python3.7/site-packages (from python-dateutil>=2.7.3->pandas<2.0.0,>=1.3.5->tsflex) (1.16.0)\n\u001b[33mWARNING: Running pip as the 'root' user can result in broken permissions and conflicting behaviour with the system package manager. It is recommended to use a virtual environment instead: https://pip.pypa.io/warnings/venv\u001b[0m\u001b[33m\n\u001b[0mLooking in links: file:///kaggle/input/time-series-tools\nRequirement already satisfied: seglearn in /opt/conda/lib/python3.7/site-packages (1.2.5)\nRequirement already satisfied: numpy in /opt/conda/lib/python3.7/site-packages (from seglearn) (1.21.6)\nRequirement already satisfied: scipy in /opt/conda/lib/python3.7/site-packages (from seglearn) (1.7.3)\nRequirement already satisfied: scikit-learn>=0.21.3 in /opt/conda/lib/python3.7/site-packages (from seglearn) (1.0.2)\nRequirement already satisfied: joblib>=0.11 in /opt/conda/lib/python3.7/site-packages (from scikit-learn>=0.21.3->seglearn) (1.2.0)\nRequirement already satisfied: threadpoolctl>=2.0.0 in /opt/conda/lib/python3.7/site-packages (from scikit-learn>=0.21.3->seglearn) (3.1.0)\n\u001b[33mWARNING: Running pip as the 'root' user can result in broken permissions and conflicting behaviour with the system package manager. It is recommended to use a virtual environment instead: https://pip.pypa.io/warnings/venv\u001b[0m\u001b[33m\n\u001b[0m",
          "output_type": "stream"
        }
      ]
    },
    {
      "cell_type": "markdown",
      "source": [
        "## Create a tsflex feature collection"
      ],
      "metadata": {
        "id": "7aWa6j6GTDb6"
      }
    },
    {
      "cell_type": "code",
      "source": [
        "# Import necessary functions from libraries\n",
        "from seglearn.feature_functions import base_features, emg_features\n",
        "from tsflex.features import FeatureCollection, MultipleFeatureDescriptors\n",
        "from tsflex.features.integrations import seglearn_feature_dict_wrapper\n",
        "\n",
        "# Define basic_feats variable to compute basic features\n",
        "basic_feats = MultipleFeatureDescriptors(seglearn_feature_dict_wrapper(base_features()), ['AccV', 'AccML', 'AccAP'], [5000], [5000])\n",
        "\n",
        "# Define emg_feats variable to compute emg features\n",
        "emg_feats = emg_features()\n",
        "del emg_feats['simple square integral']\n",
        "emg_feats = MultipleFeatureDescriptors(seglearn_feature_dict_wrapper(emg_feats), ['AccV', 'AccML', 'AccAP'], [5000], [5000])\n",
        "\n",
        "# Combine the computed features into a FeatureCollection\n",
        "fc = FeatureCollection([basic_feats, emg_feats])"
      ],
      "metadata": {
        "_kg_hide-input": true,
        "execution": {
          "iopub.status.busy": "2023-04-17T02:20:17.645008Z",
          "iopub.execute_input": "2023-04-17T02:20:17.645376Z",
          "iopub.status.idle": "2023-04-17T02:20:17.701624Z",
          "shell.execute_reply.started": "2023-04-17T02:20:17.645342Z",
          "shell.execute_reply": "2023-04-17T02:20:17.700370Z"
        },
        "trusted": true,
        "id": "KUJ-xpeDTDb7"
      },
      "execution_count": null,
      "outputs": []
    },
    {
      "cell_type": "markdown",
      "source": [
        "## Extract the features (with Time_frac feature)"
      ],
      "metadata": {
        "id": "Gfo3BC70TDb7"
      }
    },
    {
      "cell_type": "code",
      "source": [
        "import pathlib\n",
        "def reader(file_path):\n",
        "    try:\n",
        "        data = pd.read_csv(file_path, index_col=\"Time\", usecols=['Time', 'AccV', 'AccML', 'AccAP', 'StartHesitation', 'Turn' , 'Walking'])\n",
        "\n",
        "        data['Id'] = file_path.split('/')[-1].split('.')[0]\n",
        "        data['Module'] = pathlib.Path(file_path).parts[-2]\n",
        "\n",
        "        data['Time_frac']=(data.index/data.index.max()).values\n",
        "\n",
        "        data = pd.merge(data, tasks[['Id','t_kmeans']], how='left', on='Id').fillna(-1)\n",
        "        data = pd.merge(data, metadata_complex[['Id','Subject']+['Visit','Test','Medication','s_kmeans']], how='left', on='Id').fillna(-1)\n",
        "        features = fc.calculate(data, return_df=True, include_final_window=True, approve_sparsity=True, window_idx=\"begin\").astype(np.float32)\n",
        "        data = data.merge(features, how=\"left\", left_index=True, right_index=True)\n",
        "        data.fillna(method=\"ffill\", inplace=True)\n",
        "        return data\n",
        "    except:\n",
        "        pass\n",
        "\n",
        "train = pd.concat([reader(f) for f in tqdm(train)]).fillna(0); print(train.shape)\n",
        "cols = [c for c in train.columns if c not in ['Id','Subject','Module', 'Time', 'StartHesitation', 'Turn' , 'Walking', 'Valid', 'Task','Event']]\n",
        "pcols = ['StartHesitation', 'Turn' , 'Walking']\n",
        "scols = ['Id', 'StartHesitation', 'Turn' , 'Walking']"
      ],
      "metadata": {
        "execution": {
          "iopub.status.busy": "2023-04-17T02:20:17.703229Z",
          "iopub.execute_input": "2023-04-17T02:20:17.704044Z",
          "iopub.status.idle": "2023-04-17T02:28:25.590033Z",
          "shell.execute_reply.started": "2023-04-17T02:20:17.704007Z",
          "shell.execute_reply": "2023-04-17T02:28:25.585178Z"
        },
        "trusted": true,
        "colab": {
          "referenced_widgets": [
            "fb4f91fa02324b7b872157fcadc07a35"
          ]
        },
        "id": "n3TnHqD8TDb8",
        "outputId": "7254ae73-d89d-41ca-8c01-c2cfc1573794"
      },
      "execution_count": null,
      "outputs": [
        {
          "output_type": "display_data",
          "data": {
            "text/plain": "  0%|          | 0/970 [00:00<?, ?it/s]",
            "application/vnd.jupyter.widget-view+json": {
              "version_major": 2,
              "version_minor": 0,
              "model_id": "fb4f91fa02324b7b872157fcadc07a35"
            }
          },
          "metadata": {}
        },
        {
          "name": "stdout",
          "text": "(20588374, 72)\n",
          "output_type": "stream"
        }
      ]
    },
    {
      "cell_type": "code",
      "source": [
        "train=train.reset_index(drop=True)"
      ],
      "metadata": {
        "_kg_hide-input": true,
        "execution": {
          "iopub.status.busy": "2023-04-17T02:28:25.594987Z",
          "iopub.execute_input": "2023-04-17T02:28:25.596731Z",
          "iopub.status.idle": "2023-04-17T02:28:33.280948Z",
          "shell.execute_reply.started": "2023-04-17T02:28:25.596678Z",
          "shell.execute_reply": "2023-04-17T02:28:33.279845Z"
        },
        "trusted": true,
        "id": "kEzbfBdwTDb8"
      },
      "execution_count": null,
      "outputs": []
    },
    {
      "cell_type": "code",
      "source": [
        "train.head()"
      ],
      "metadata": {
        "execution": {
          "iopub.status.busy": "2023-04-17T02:28:33.286696Z",
          "iopub.execute_input": "2023-04-17T02:28:33.287093Z",
          "iopub.status.idle": "2023-04-17T02:28:33.323076Z",
          "shell.execute_reply.started": "2023-04-17T02:28:33.287055Z",
          "shell.execute_reply": "2023-04-17T02:28:33.321507Z"
        },
        "trusted": true,
        "id": "V1qXXPfATDb9",
        "outputId": "6e615124-ea04-435a-d37a-e92c8f7d7c53"
      },
      "execution_count": null,
      "outputs": [
        {
          "execution_count": 10,
          "output_type": "execute_result",
          "data": {
            "text/plain": "       AccV     AccML     AccAP  StartHesitation  Turn  Walking          Id  \\\n0 -1.002697  0.022371  0.068304                0     0        0  be9d33541d   \n1 -1.002641  0.019173  0.066162                0     0        0  be9d33541d   \n2 -0.999820  0.019142  0.067536                0     0        0  be9d33541d   \n3 -0.998023  0.018378  0.068409                0     0        0  be9d33541d   \n4 -0.998359  0.016726  0.066448                0     0        0  be9d33541d   \n\n  Module  Time_frac  t_kmeans  ... AccV__minimum__w=5000  AccV__mse__w=5000  \\\n0  defog   0.000000       0.0  ...             -2.295443        4976.811035   \n1  defog   0.000008       0.0  ...             -2.295443        4976.811035   \n2  defog   0.000017       0.0  ...             -2.295443        4976.811035   \n3  defog   0.000025       0.0  ...             -2.295443        4976.811035   \n4  defog   0.000034       0.0  ...             -2.295443        4976.811035   \n\n   AccV__root_mean_square__w=5000  AccV__skew__w=5000  \\\n0                        0.997678           -3.076039   \n1                        0.997678           -3.076039   \n2                        0.997678           -3.076039   \n3                        0.997678           -3.076039   \n4                        0.997678           -3.076039   \n\n   AccV__slope_sign_changes__w=5000  AccV__std__w=5000  AccV__var__w=5000  \\\n0                            1459.0            0.10962           0.012017   \n1                            1459.0            0.10962           0.012017   \n2                            1459.0            0.10962           0.012017   \n3                            1459.0            0.10962           0.012017   \n4                            1459.0            0.10962           0.012017   \n\n   AccV__waveform_length__w=5000  AccV__willison_amplitude__w=5000  \\\n0                      75.765259                            4999.0   \n1                      75.765259                            4999.0   \n2                      75.765259                            4999.0   \n3                      75.765259                            4999.0   \n4                      75.765259                            4999.0   \n\n   AccV__zero_crossing__w=5000  \n0                       4999.0  \n1                       4999.0  \n2                       4999.0  \n3                       4999.0  \n4                       4999.0  \n\n[5 rows x 72 columns]",
            "text/html": "<div>\n<style scoped>\n    .dataframe tbody tr th:only-of-type {\n        vertical-align: middle;\n    }\n\n    .dataframe tbody tr th {\n        vertical-align: top;\n    }\n\n    .dataframe thead th {\n        text-align: right;\n    }\n</style>\n<table border=\"1\" class=\"dataframe\">\n  <thead>\n    <tr style=\"text-align: right;\">\n      <th></th>\n      <th>AccV</th>\n      <th>AccML</th>\n      <th>AccAP</th>\n      <th>StartHesitation</th>\n      <th>Turn</th>\n      <th>Walking</th>\n      <th>Id</th>\n      <th>Module</th>\n      <th>Time_frac</th>\n      <th>t_kmeans</th>\n      <th>...</th>\n      <th>AccV__minimum__w=5000</th>\n      <th>AccV__mse__w=5000</th>\n      <th>AccV__root_mean_square__w=5000</th>\n      <th>AccV__skew__w=5000</th>\n      <th>AccV__slope_sign_changes__w=5000</th>\n      <th>AccV__std__w=5000</th>\n      <th>AccV__var__w=5000</th>\n      <th>AccV__waveform_length__w=5000</th>\n      <th>AccV__willison_amplitude__w=5000</th>\n      <th>AccV__zero_crossing__w=5000</th>\n    </tr>\n  </thead>\n  <tbody>\n    <tr>\n      <th>0</th>\n      <td>-1.002697</td>\n      <td>0.022371</td>\n      <td>0.068304</td>\n      <td>0</td>\n      <td>0</td>\n      <td>0</td>\n      <td>be9d33541d</td>\n      <td>defog</td>\n      <td>0.000000</td>\n      <td>0.0</td>\n      <td>...</td>\n      <td>-2.295443</td>\n      <td>4976.811035</td>\n      <td>0.997678</td>\n      <td>-3.076039</td>\n      <td>1459.0</td>\n      <td>0.10962</td>\n      <td>0.012017</td>\n      <td>75.765259</td>\n      <td>4999.0</td>\n      <td>4999.0</td>\n    </tr>\n    <tr>\n      <th>1</th>\n      <td>-1.002641</td>\n      <td>0.019173</td>\n      <td>0.066162</td>\n      <td>0</td>\n      <td>0</td>\n      <td>0</td>\n      <td>be9d33541d</td>\n      <td>defog</td>\n      <td>0.000008</td>\n      <td>0.0</td>\n      <td>...</td>\n      <td>-2.295443</td>\n      <td>4976.811035</td>\n      <td>0.997678</td>\n      <td>-3.076039</td>\n      <td>1459.0</td>\n      <td>0.10962</td>\n      <td>0.012017</td>\n      <td>75.765259</td>\n      <td>4999.0</td>\n      <td>4999.0</td>\n    </tr>\n    <tr>\n      <th>2</th>\n      <td>-0.999820</td>\n      <td>0.019142</td>\n      <td>0.067536</td>\n      <td>0</td>\n      <td>0</td>\n      <td>0</td>\n      <td>be9d33541d</td>\n      <td>defog</td>\n      <td>0.000017</td>\n      <td>0.0</td>\n      <td>...</td>\n      <td>-2.295443</td>\n      <td>4976.811035</td>\n      <td>0.997678</td>\n      <td>-3.076039</td>\n      <td>1459.0</td>\n      <td>0.10962</td>\n      <td>0.012017</td>\n      <td>75.765259</td>\n      <td>4999.0</td>\n      <td>4999.0</td>\n    </tr>\n    <tr>\n      <th>3</th>\n      <td>-0.998023</td>\n      <td>0.018378</td>\n      <td>0.068409</td>\n      <td>0</td>\n      <td>0</td>\n      <td>0</td>\n      <td>be9d33541d</td>\n      <td>defog</td>\n      <td>0.000025</td>\n      <td>0.0</td>\n      <td>...</td>\n      <td>-2.295443</td>\n      <td>4976.811035</td>\n      <td>0.997678</td>\n      <td>-3.076039</td>\n      <td>1459.0</td>\n      <td>0.10962</td>\n      <td>0.012017</td>\n      <td>75.765259</td>\n      <td>4999.0</td>\n      <td>4999.0</td>\n    </tr>\n    <tr>\n      <th>4</th>\n      <td>-0.998359</td>\n      <td>0.016726</td>\n      <td>0.066448</td>\n      <td>0</td>\n      <td>0</td>\n      <td>0</td>\n      <td>be9d33541d</td>\n      <td>defog</td>\n      <td>0.000034</td>\n      <td>0.0</td>\n      <td>...</td>\n      <td>-2.295443</td>\n      <td>4976.811035</td>\n      <td>0.997678</td>\n      <td>-3.076039</td>\n      <td>1459.0</td>\n      <td>0.10962</td>\n      <td>0.012017</td>\n      <td>75.765259</td>\n      <td>4999.0</td>\n      <td>4999.0</td>\n    </tr>\n  </tbody>\n</table>\n<p>5 rows × 72 columns</p>\n</div>"
          },
          "metadata": {}
        }
      ]
    },
    {
      "cell_type": "markdown",
      "source": [
        "# EDA: Looking at the distribution of Time for different target variable\n",
        "\n",
        "1. add time feature: `df['Time_frac']=(df.Time/df.Time.max()).values`(finished in reader() function)\n",
        "2. visualized the distribution of `Time_frac` for different target variable[`StartHesitation,Turn,Walking`]\n",
        "\n"
      ],
      "metadata": {
        "id": "8RE6_DT0TDb9"
      }
    },
    {
      "cell_type": "code",
      "source": [
        "import matplotlib.pyplot as plt\n",
        "fig,ax=plt.subplots(3,1,figsize=(20,10))\n",
        "train.loc[train['StartHesitation']==1,'Time_frac'].hist(ax=ax[0],bins=100)\n",
        "train.loc[train['Turn']==1,'Time_frac'].hist(ax=ax[1],bins=100)\n",
        "train.loc[train['Walking']==1,'Time_frac'].hist(ax=ax[2],bins=100)"
      ],
      "metadata": {
        "execution": {
          "iopub.status.busy": "2023-04-17T02:28:33.345326Z",
          "iopub.execute_input": "2023-04-17T02:28:33.345629Z",
          "iopub.status.idle": "2023-04-17T02:28:35.072527Z",
          "shell.execute_reply.started": "2023-04-17T02:28:33.345598Z",
          "shell.execute_reply": "2023-04-17T02:28:35.070926Z"
        },
        "trusted": true,
        "id": "hSqqEqoPTDb9",
        "outputId": "97590334-1711-4413-bd5b-406e80657a31"
      },
      "execution_count": null,
      "outputs": [
        {
          "execution_count": 11,
          "output_type": "execute_result",
          "data": {
            "text/plain": "<AxesSubplot:>"
          },
          "metadata": {}
        },
        {
          "output_type": "display_data",
          "data": {
            "text/plain": "<Figure size 2000x1000 with 3 Axes>",
            "image/png": "[encoded data removed]"
          },
          "metadata": {}
        }
      ]
    },
    {
      "cell_type": "markdown",
      "source": [
        "##### The distribution betweeen `the 3 target[StartHesitation,Turn,Walking]` is totally different\n",
        "\n",
        "##### review the Official definition\n",
        "> The tDCS FOG (tdcsfog) dataset, comprising data series collected in the lab, as subjects `completed a FOG-provoking protocol`.\n",
        "\n",
        "> The DeFOG (defog) dataset, comprising data series collected in the subject's home, as subjects `completed a FOG-provoking protocol`\n",
        "\n",
        "##### EDA Discovery\n",
        "\n",
        "- StartHesitation frequently occurs in the early stage, and rarely occurs in the late stage\n",
        "- Turn frequently occurs in the middle stage\n",
        "- Walking frequently occurs in the late stage\n",
        "\n",
        "##### Assumption: In a `completed FOG-provoking protocol`, the order in which the event occur tends to follow the order `StartHesitation->Turn->Walking`\n",
        "\n",
        "##### Application example: Add time fraction feature to model"
      ],
      "metadata": {
        "id": "gJVpxoJmTDb-"
      }
    },
    {
      "cell_type": "markdown",
      "source": [
        "# Build the model and submit"
      ],
      "metadata": {
        "id": "JGnKu8AtTDb-"
      }
    },
    {
      "cell_type": "markdown",
      "source": [
        "## Train the model"
      ],
      "metadata": {
        "id": "UzUV5SJwTDb-"
      }
    },
    {
      "cell_type": "code",
      "source": [
        "import xgboost as xgb\n",
        "import lightgbm as lgb\n",
        "from sklearn.multioutput import MultiOutputRegressor\n",
        "from sklearn.metrics import mean_squared_error, r2_score\n"
      ],
      "metadata": {
        "execution": {
          "iopub.status.busy": "2023-04-17T02:28:35.078046Z",
          "iopub.execute_input": "2023-04-17T02:28:35.078476Z",
          "iopub.status.idle": "2023-04-17T02:28:36.551016Z",
          "shell.execute_reply.started": "2023-04-17T02:28:35.078431Z",
          "shell.execute_reply": "2023-04-17T02:28:36.549643Z"
        },
        "trusted": true,
        "id": "e39mEe1QTDb_",
        "outputId": "b198ac0e-0c88-4749-b49a-0256e53ab4d6"
      },
      "execution_count": null,
      "outputs": [
        {
          "output_type": "display_data",
          "data": {
            "text/plain": "<IPython.core.display.HTML object>",
            "text/html": "<style type='text/css'>\n.datatable table.frame { margin-bottom: 0; }\n.datatable table.frame thead { border-bottom: none; }\n.datatable table.frame tr.coltypes td {  color: #FFFFFF;  line-height: 6px;  padding: 0 0.5em;}\n.datatable .bool    { background: #DDDD99; }\n.datatable .object  { background: #565656; }\n.datatable .int     { background: #5D9E5D; }\n.datatable .float   { background: #4040CC; }\n.datatable .str     { background: #CC4040; }\n.datatable .time    { background: #40CC40; }\n.datatable .row_index {  background: var(--jp-border-color3);  border-right: 1px solid var(--jp-border-color0);  color: var(--jp-ui-font-color3);  font-size: 9px;}\n.datatable .frame tbody td { text-align: left; }\n.datatable .frame tr.coltypes .row_index {  background: var(--jp-border-color0);}\n.datatable th:nth-child(2) { padding-left: 12px; }\n.datatable .hellipsis {  color: var(--jp-cell-editor-border-color);}\n.datatable .vellipsis {  background: var(--jp-layout-color0);  color: var(--jp-cell-editor-border-color);}\n.datatable .na {  color: var(--jp-cell-editor-border-color);  font-size: 80%;}\n.datatable .sp {  opacity: 0.25;}\n.datatable .footer { font-size: 9px; }\n.datatable .frame_dimensions {  background: var(--jp-border-color3);  border-top: 1px solid var(--jp-border-color0);  color: var(--jp-ui-font-color3);  display: inline-block;  opacity: 0.6;  padding: 1px 10px 1px 5px;}\n</style>\n"
          },
          "metadata": {}
        }
      ]
    },
    {
      "cell_type": "code",
      "source": [
        "import numpy as np\n",
        "import xgboost as xgb\n",
        "from sklearn.model_selection import RandomizedSearchCV, train_test_split\n",
        "from scipy.stats import uniform, randint\n",
        "from sklearn.metrics import average_precision_score, make_scorer\n",
        "\n",
        "best_params_ = {'estimator__colsample_bytree': 0.5282057895135501,\n",
        " 'estimator__learning_rate': 0.22659963168004743,\n",
        " 'estimator__max_depth': 8,\n",
        " 'estimator__min_child_weight': 3.1233911067827616,\n",
        " 'estimator__n_estimators': 291,\n",
        " 'estimator__subsample': 0.9961057796456088}"
      ],
      "metadata": {
        "execution": {
          "iopub.status.busy": "2023-04-17T02:28:36.552490Z",
          "iopub.execute_input": "2023-04-17T02:28:36.552885Z",
          "iopub.status.idle": "2023-04-17T02:28:36.560442Z",
          "shell.execute_reply.started": "2023-04-17T02:28:36.552836Z",
          "shell.execute_reply": "2023-04-17T02:28:36.559201Z"
        },
        "trusted": true,
        "id": "-e3GkKTbTDb_"
      },
      "execution_count": null,
      "outputs": []
    },
    {
      "cell_type": "code",
      "source": [
        "best_params_ = {kk: v for k, v in best_params_.items() for kk in k.split('__')}; del best_params_['estimator']"
      ],
      "metadata": {
        "execution": {
          "iopub.status.busy": "2023-04-17T02:28:36.561934Z",
          "iopub.execute_input": "2023-04-17T02:28:36.562315Z",
          "iopub.status.idle": "2023-04-17T02:28:36.578937Z",
          "shell.execute_reply.started": "2023-04-17T02:28:36.562279Z",
          "shell.execute_reply": "2023-04-17T02:28:36.577520Z"
        },
        "trusted": true,
        "id": "1v-3PMf3TDb_"
      },
      "execution_count": null,
      "outputs": []
    },
    {
      "cell_type": "code",
      "source": [
        "from sklearn.base import clone\n",
        "\n",
        "def custom_average_precision(y_true, y_pred):\n",
        "    score = average_precision_score(y_true, y_pred)\n",
        "    return 'average_precision', score, True\n",
        "\n",
        "class LGBMMultiOutputRegressor(MultiOutputRegressor):\n",
        "    def fit(self, X, y, eval_set=None, **fit_params):\n",
        "        self.estimators_ = [clone(self.estimator) for _ in range(y.shape[1])]\n",
        "\n",
        "        for i, estimator in enumerate(self.estimators_):\n",
        "            if eval_set:\n",
        "                fit_params['eval_set'] = [(eval_set[0], eval_set[1][:, i])]\n",
        "            estimator.fit(X, y[:, i], **fit_params)\n",
        "\n",
        "        return self"
      ],
      "metadata": {
        "execution": {
          "iopub.status.busy": "2023-04-17T02:28:36.580820Z",
          "iopub.execute_input": "2023-04-17T02:28:36.581225Z",
          "iopub.status.idle": "2023-04-17T02:28:36.590396Z",
          "shell.execute_reply.started": "2023-04-17T02:28:36.581190Z",
          "shell.execute_reply": "2023-04-17T02:28:36.589190Z"
        },
        "trusted": true,
        "id": "2hkeKpdrTDcA"
      },
      "execution_count": null,
      "outputs": []
    },
    {
      "cell_type": "code",
      "source": [
        "from sklearn.model_selection import GroupKFold\n",
        "import lightgbm as lgb\n",
        "from sklearn.multioutput import MultiOutputRegressor\n",
        "from sklearn import metrics\n",
        "from tqdm import tqdm\n",
        "\n",
        "def train_and_evaluate(train, cols, pcols, best_params_, N_FOLDS=5):\n",
        "    kfold = GroupKFold(N_FOLDS)\n",
        "    group_var = train.Subject\n",
        "    groups=kfold.split(train, groups=group_var)\n",
        "    regs=[]\n",
        "    cvs=[]\n",
        "    for fold, (train_idx, test_idx) in enumerate(tqdm(groups, total=N_FOLDS, desc=\"Folds\")):\n",
        "        train_idx = pd.Series(train_idx).sample(n=2000000, random_state=2).values\n",
        "        base_regressor = lgb.LGBMRegressor(**best_params_)\n",
        "        multioutput_regressor = MultiOutputRegressor(base_regressor)\n",
        "        x_train, y_train = train.loc[train_idx, cols].to_numpy(), train.loc[train_idx, pcols].to_numpy()\n",
        "        x_test, y_test = train.loc[test_idx, cols].to_numpy(), train.loc[test_idx, pcols].to_numpy()\n",
        "        multioutput_regressor.fit(x_train, y_train,\n",
        "                                  eval_set=(x_test, y_test),\n",
        "                                  eval_metric=custom_metric,\n",
        "                                  early_stopping_rounds=25)\n",
        "        regs.append(multioutput_regressor)\n",
        "        cv_score = metrics.average_precision_score(y_test, multioutput_regressor.predict(x_test).clip(0.0, 1.0))\n",
        "        cvs.append(cv_score)\n",
        "    return cvs\n",
        "\n",
        "\n",
        "train_and_evaluate(train, test, metadata, tasks, fc, N_FOLDS, best_params_, cols, pcols, scols)"
      ],
      "metadata": {
        "_kg_hide-output": true,
        "execution": {
          "iopub.status.busy": "2023-04-17T02:28:36.592229Z",
          "iopub.execute_input": "2023-04-17T02:28:36.592611Z",
          "iopub.status.idle": "2023-04-17T02:44:01.844692Z",
          "shell.execute_reply.started": "2023-04-17T02:28:36.592572Z",
          "shell.execute_reply": "2023-04-17T02:44:01.843059Z"
        },
        "trusted": true,
        "colab": {
          "referenced_widgets": [
            "a01114561adf48d48dd53b52eb5f6032"
          ]
        },
        "id": "4Zd1Kz4ATDcB",
        "outputId": "8d46ae12-8394-40a7-ee94-2fbd19487bb6"
      },
      "execution_count": null,
      "outputs": [
        {
          "output_type": "display_data",
          "data": {
            "text/plain": "Folds:   0%|          | 0/5 [00:00<?, ?it/s]",
            "application/vnd.jupyter.widget-view+json": {
              "version_major": 2,
              "version_minor": 0,
              "model_id": "a01114561adf48d48dd53b52eb5f6032"
            }
          },
          "metadata": {}
        },
        {
          "name": "stderr",
          "text": "/opt/conda/lib/python3.7/site-packages/lightgbm/sklearn.py:726: UserWarning: 'early_stopping_rounds' argument is deprecated and will be removed in a future release of LightGBM. Pass 'early_stopping()' callback via 'callbacks' argument instead.\n  _log_warning(\"'early_stopping_rounds' argument is deprecated and will be removed in a future release of LightGBM. \"\n",
          "output_type": "stream"
        },
        {
          "name": "stdout",
          "text": "[1]\tvalid_0's l2: 0.0578913\tvalid_0's average_precision: 0.127793\n[2]\tvalid_0's l2: 0.0578783\tvalid_0's average_precision: 0.198022\n[3]\tvalid_0's l2: 0.0579216\tvalid_0's average_precision: 0.187799\n[4]\tvalid_0's l2: 0.0579757\tvalid_0's average_precision: 0.156758\n[5]\tvalid_0's l2: 0.0575889\tvalid_0's average_precision: 0.197729\n[6]\tvalid_0's l2: 0.0574153\tvalid_0's average_precision: 0.196067\n[7]\tvalid_0's l2: 0.0574742\tvalid_0's average_precision: 0.193789\n[8]\tvalid_0's l2: 0.057531\tvalid_0's average_precision: 0.183999\n[9]\tvalid_0's l2: 0.05756\tvalid_0's average_precision: 0.174796\n[10]\tvalid_0's l2: 0.0575701\tvalid_0's average_precision: 0.171761\n[11]\tvalid_0's l2: 0.0576327\tvalid_0's average_precision: 0.154539\n[12]\tvalid_0's l2: 0.0576808\tvalid_0's average_precision: 0.145211\n[13]\tvalid_0's l2: 0.0576865\tvalid_0's average_precision: 0.144456\n[14]\tvalid_0's l2: 0.0577137\tvalid_0's average_precision: 0.141209\n[15]\tvalid_0's l2: 0.057831\tvalid_0's average_precision: 0.122275\n[16]\tvalid_0's l2: 0.0577358\tvalid_0's average_precision: 0.122251\n[17]\tvalid_0's l2: 0.0575128\tvalid_0's average_precision: 0.119271\n[18]\tvalid_0's l2: 0.0574983\tvalid_0's average_precision: 0.120836\n[19]\tvalid_0's l2: 0.0575996\tvalid_0's average_precision: 0.115696\n[20]\tvalid_0's l2: 0.0576031\tvalid_0's average_precision: 0.115391\n[21]\tvalid_0's l2: 0.0576071\tvalid_0's average_precision: 0.113831\n[22]\tvalid_0's l2: 0.0577137\tvalid_0's average_precision: 0.107361\n[23]\tvalid_0's l2: 0.0577143\tvalid_0's average_precision: 0.107378\n[24]\tvalid_0's l2: 0.0577187\tvalid_0's average_precision: 0.107711\n[25]\tvalid_0's l2: 0.0578209\tvalid_0's average_precision: 0.0970709\n[26]\tvalid_0's l2: 0.057858\tvalid_0's average_precision: 0.0958148\n[27]\tvalid_0's l2: 0.0578549\tvalid_0's average_precision: 0.0965614\n",
          "output_type": "stream"
        },
        {
          "name": "stderr",
          "text": "/opt/conda/lib/python3.7/site-packages/lightgbm/sklearn.py:726: UserWarning: 'early_stopping_rounds' argument is deprecated and will be removed in a future release of LightGBM. Pass 'early_stopping()' callback via 'callbacks' argument instead.\n  _log_warning(\"'early_stopping_rounds' argument is deprecated and will be removed in a future release of LightGBM. \"\n",
          "output_type": "stream"
        },
        {
          "name": "stdout",
          "text": "[1]\tvalid_0's l2: 0.190043\tvalid_0's average_precision: 0.409302\n[2]\tvalid_0's l2: 0.187059\tvalid_0's average_precision: 0.418666\n[3]\tvalid_0's l2: 0.173495\tvalid_0's average_precision: 0.495649\n[4]\tvalid_0's l2: 0.167942\tvalid_0's average_precision: 0.500067\n[5]\tvalid_0's l2: 0.167787\tvalid_0's average_precision: 0.490573\n[6]\tvalid_0's l2: 0.161475\tvalid_0's average_precision: 0.524892\n[7]\tvalid_0's l2: 0.158508\tvalid_0's average_precision: 0.54156\n[8]\tvalid_0's l2: 0.155148\tvalid_0's average_precision: 0.559211\n[9]\tvalid_0's l2: 0.154755\tvalid_0's average_precision: 0.557064\n[10]\tvalid_0's l2: 0.155763\tvalid_0's average_precision: 0.549172\n[11]\tvalid_0's l2: 0.153849\tvalid_0's average_precision: 0.558765\n[12]\tvalid_0's l2: 0.151278\tvalid_0's average_precision: 0.562035\n[13]\tvalid_0's l2: 0.147541\tvalid_0's average_precision: 0.57817\n[14]\tvalid_0's l2: 0.141178\tvalid_0's average_precision: 0.603626\n[15]\tvalid_0's l2: 0.135313\tvalid_0's average_precision: 0.639848\n[16]\tvalid_0's l2: 0.130051\tvalid_0's average_precision: 0.669164\n[17]\tvalid_0's l2: 0.129385\tvalid_0's average_precision: 0.666946\n[18]\tvalid_0's l2: 0.128231\tvalid_0's average_precision: 0.670741\n[19]\tvalid_0's l2: 0.127926\tvalid_0's average_precision: 0.67313\n[20]\tvalid_0's l2: 0.127913\tvalid_0's average_precision: 0.672474\n[21]\tvalid_0's l2: 0.128783\tvalid_0's average_precision: 0.667706\n[22]\tvalid_0's l2: 0.128735\tvalid_0's average_precision: 0.664879\n[23]\tvalid_0's l2: 0.129842\tvalid_0's average_precision: 0.658098\n[24]\tvalid_0's l2: 0.129648\tvalid_0's average_precision: 0.660157\n[25]\tvalid_0's l2: 0.127488\tvalid_0's average_precision: 0.666025\n[26]\tvalid_0's l2: 0.126009\tvalid_0's average_precision: 0.672923\n[27]\tvalid_0's l2: 0.125692\tvalid_0's average_precision: 0.670688\n[28]\tvalid_0's l2: 0.125706\tvalid_0's average_precision: 0.670788\n[29]\tvalid_0's l2: 0.125681\tvalid_0's average_precision: 0.669921\n[30]\tvalid_0's l2: 0.126072\tvalid_0's average_precision: 0.668016\n[31]\tvalid_0's l2: 0.125635\tvalid_0's average_precision: 0.671306\n[32]\tvalid_0's l2: 0.125802\tvalid_0's average_precision: 0.6706\n[33]\tvalid_0's l2: 0.125098\tvalid_0's average_precision: 0.672217\n[34]\tvalid_0's l2: 0.124732\tvalid_0's average_precision: 0.67358\n[35]\tvalid_0's l2: 0.124517\tvalid_0's average_precision: 0.671886\n[36]\tvalid_0's l2: 0.12466\tvalid_0's average_precision: 0.670381\n[37]\tvalid_0's l2: 0.125085\tvalid_0's average_precision: 0.668034\n[38]\tvalid_0's l2: 0.125114\tvalid_0's average_precision: 0.667535\n[39]\tvalid_0's l2: 0.125159\tvalid_0's average_precision: 0.667262\n[40]\tvalid_0's l2: 0.125131\tvalid_0's average_precision: 0.667672\n[41]\tvalid_0's l2: 0.125012\tvalid_0's average_precision: 0.668209\n[42]\tvalid_0's l2: 0.124441\tvalid_0's average_precision: 0.670561\n[43]\tvalid_0's l2: 0.124495\tvalid_0's average_precision: 0.670231\n[44]\tvalid_0's l2: 0.124491\tvalid_0's average_precision: 0.670241\n[45]\tvalid_0's l2: 0.124504\tvalid_0's average_precision: 0.670405\n[46]\tvalid_0's l2: 0.123836\tvalid_0's average_precision: 0.671896\n[47]\tvalid_0's l2: 0.123907\tvalid_0's average_precision: 0.671606\n[48]\tvalid_0's l2: 0.123941\tvalid_0's average_precision: 0.671223\n[49]\tvalid_0's l2: 0.124367\tvalid_0's average_precision: 0.667553\n[50]\tvalid_0's l2: 0.124426\tvalid_0's average_precision: 0.667217\n[51]\tvalid_0's l2: 0.12439\tvalid_0's average_precision: 0.667041\n[52]\tvalid_0's l2: 0.124067\tvalid_0's average_precision: 0.668038\n[53]\tvalid_0's l2: 0.124137\tvalid_0's average_precision: 0.667591\n[54]\tvalid_0's l2: 0.124208\tvalid_0's average_precision: 0.667215\n[55]\tvalid_0's l2: 0.124214\tvalid_0's average_precision: 0.667172\n[56]\tvalid_0's l2: 0.124558\tvalid_0's average_precision: 0.664293\n[57]\tvalid_0's l2: 0.124116\tvalid_0's average_precision: 0.66709\n[58]\tvalid_0's l2: 0.124121\tvalid_0's average_precision: 0.667013\n[59]\tvalid_0's l2: 0.124588\tvalid_0's average_precision: 0.66456\n",
          "output_type": "stream"
        },
        {
          "name": "stderr",
          "text": "/opt/conda/lib/python3.7/site-packages/lightgbm/sklearn.py:726: UserWarning: 'early_stopping_rounds' argument is deprecated and will be removed in a future release of LightGBM. Pass 'early_stopping()' callback via 'callbacks' argument instead.\n  _log_warning(\"'early_stopping_rounds' argument is deprecated and will be removed in a future release of LightGBM. \"\n",
          "output_type": "stream"
        },
        {
          "name": "stdout",
          "text": "[1]\tvalid_0's l2: 0.0357961\tvalid_0's average_precision: 0.0736189\n[2]\tvalid_0's l2: 0.0356519\tvalid_0's average_precision: 0.102194\n[3]\tvalid_0's l2: 0.0356923\tvalid_0's average_precision: 0.107075\n[4]\tvalid_0's l2: 0.035485\tvalid_0's average_precision: 0.0986197\n[5]\tvalid_0's l2: 0.0355067\tvalid_0's average_precision: 0.0904871\n[6]\tvalid_0's l2: 0.0356457\tvalid_0's average_precision: 0.0872091\n[7]\tvalid_0's l2: 0.0359835\tvalid_0's average_precision: 0.0820111\n[8]\tvalid_0's l2: 0.0359977\tvalid_0's average_precision: 0.0800289\n[9]\tvalid_0's l2: 0.0360738\tvalid_0's average_precision: 0.0743003\n[10]\tvalid_0's l2: 0.035957\tvalid_0's average_precision: 0.0791595\n[11]\tvalid_0's l2: 0.0362938\tvalid_0's average_precision: 0.0790644\n[12]\tvalid_0's l2: 0.0362941\tvalid_0's average_precision: 0.0790257\n[13]\tvalid_0's l2: 0.0363357\tvalid_0's average_precision: 0.0771438\n[14]\tvalid_0's l2: 0.0364101\tvalid_0's average_precision: 0.0764605\n[15]\tvalid_0's l2: 0.036592\tvalid_0's average_precision: 0.0737363\n[16]\tvalid_0's l2: 0.0365978\tvalid_0's average_precision: 0.0737307\n[17]\tvalid_0's l2: 0.036576\tvalid_0's average_precision: 0.0796994\n[18]\tvalid_0's l2: 0.0366885\tvalid_0's average_precision: 0.0754416\n[19]\tvalid_0's l2: 0.0366991\tvalid_0's average_precision: 0.0755933\n[20]\tvalid_0's l2: 0.0367459\tvalid_0's average_precision: 0.0751954\n[21]\tvalid_0's l2: 0.037197\tvalid_0's average_precision: 0.0712356\n[22]\tvalid_0's l2: 0.0374496\tvalid_0's average_precision: 0.0688429\n[23]\tvalid_0's l2: 0.0376946\tvalid_0's average_precision: 0.0661586\n[24]\tvalid_0's l2: 0.0376999\tvalid_0's average_precision: 0.066103\n[25]\tvalid_0's l2: 0.0378825\tvalid_0's average_precision: 0.0641575\n[26]\tvalid_0's l2: 0.0376948\tvalid_0's average_precision: 0.0642914\n[27]\tvalid_0's l2: 0.0376982\tvalid_0's average_precision: 0.0641966\n[28]\tvalid_0's l2: 0.0377011\tvalid_0's average_precision: 0.0642933\n",
          "output_type": "stream"
        },
        {
          "name": "stderr",
          "text": "/opt/conda/lib/python3.7/site-packages/lightgbm/sklearn.py:726: UserWarning: 'early_stopping_rounds' argument is deprecated and will be removed in a future release of LightGBM. Pass 'early_stopping()' callback via 'callbacks' argument instead.\n  _log_warning(\"'early_stopping_rounds' argument is deprecated and will be removed in a future release of LightGBM. \"\n",
          "output_type": "stream"
        },
        {
          "name": "stdout",
          "text": "[1]\tvalid_0's l2: 0.00859369\tvalid_0's average_precision: 0.0127791\n[2]\tvalid_0's l2: 0.00861361\tvalid_0's average_precision: 0.013336\n[3]\tvalid_0's l2: 0.00855131\tvalid_0's average_precision: 0.0693991\n[4]\tvalid_0's l2: 0.00837132\tvalid_0's average_precision: 0.0937258\n[5]\tvalid_0's l2: 0.00838172\tvalid_0's average_precision: 0.0867979\n[6]\tvalid_0's l2: 0.0087792\tvalid_0's average_precision: 0.0639954\n[7]\tvalid_0's l2: 0.00884372\tvalid_0's average_precision: 0.0616063\n[8]\tvalid_0's l2: 0.00899839\tvalid_0's average_precision: 0.0604243\n[9]\tvalid_0's l2: 0.00894661\tvalid_0's average_precision: 0.076044\n[10]\tvalid_0's l2: 0.00899954\tvalid_0's average_precision: 0.0687271\n[11]\tvalid_0's l2: 0.00901247\tvalid_0's average_precision: 0.066661\n[12]\tvalid_0's l2: 0.00901612\tvalid_0's average_precision: 0.0665362\n[13]\tvalid_0's l2: 0.00900289\tvalid_0's average_precision: 0.0742721\n[14]\tvalid_0's l2: 0.00902577\tvalid_0's average_precision: 0.0816045\n[15]\tvalid_0's l2: 0.00900292\tvalid_0's average_precision: 0.0833333\n[16]\tvalid_0's l2: 0.00901605\tvalid_0's average_precision: 0.0797318\n[17]\tvalid_0's l2: 0.00895912\tvalid_0's average_precision: 0.0972661\n[18]\tvalid_0's l2: 0.00896556\tvalid_0's average_precision: 0.0958094\n[19]\tvalid_0's l2: 0.00897671\tvalid_0's average_precision: 0.0962963\n[20]\tvalid_0's l2: 0.00897671\tvalid_0's average_precision: 0.0962963\n[21]\tvalid_0's l2: 0.00897655\tvalid_0's average_precision: 0.0963893\n[22]\tvalid_0's l2: 0.00898202\tvalid_0's average_precision: 0.0962708\n[23]\tvalid_0's l2: 0.00898047\tvalid_0's average_precision: 0.0967335\n[24]\tvalid_0's l2: 0.00895984\tvalid_0's average_precision: 0.0971178\n[25]\tvalid_0's l2: 0.0089679\tvalid_0's average_precision: 0.0915516\n[26]\tvalid_0's l2: 0.00896884\tvalid_0's average_precision: 0.090916\n[27]\tvalid_0's l2: 0.00897519\tvalid_0's average_precision: 0.0911853\n[28]\tvalid_0's l2: 0.00897549\tvalid_0's average_precision: 0.0911853\n[29]\tvalid_0's l2: 0.00899972\tvalid_0's average_precision: 0.0960026\n",
          "output_type": "stream"
        },
        {
          "name": "stderr",
          "text": "/opt/conda/lib/python3.7/site-packages/lightgbm/sklearn.py:726: UserWarning: 'early_stopping_rounds' argument is deprecated and will be removed in a future release of LightGBM. Pass 'early_stopping()' callback via 'callbacks' argument instead.\n  _log_warning(\"'early_stopping_rounds' argument is deprecated and will be removed in a future release of LightGBM. \"\n",
          "output_type": "stream"
        },
        {
          "name": "stdout",
          "text": "[1]\tvalid_0's l2: 0.10312\tvalid_0's average_precision: 0.315882\n[2]\tvalid_0's l2: 0.0943167\tvalid_0's average_precision: 0.430897\n[3]\tvalid_0's l2: 0.09415\tvalid_0's average_precision: 0.424757\n[4]\tvalid_0's l2: 0.091241\tvalid_0's average_precision: 0.447422\n[5]\tvalid_0's l2: 0.0899961\tvalid_0's average_precision: 0.425344\n[6]\tvalid_0's l2: 0.0885196\tvalid_0's average_precision: 0.430894\n[7]\tvalid_0's l2: 0.0869334\tvalid_0's average_precision: 0.435586\n[8]\tvalid_0's l2: 0.0870601\tvalid_0's average_precision: 0.424411\n[9]\tvalid_0's l2: 0.0853098\tvalid_0's average_precision: 0.442512\n[10]\tvalid_0's l2: 0.0846287\tvalid_0's average_precision: 0.451606\n[11]\tvalid_0's l2: 0.0845475\tvalid_0's average_precision: 0.449967\n[12]\tvalid_0's l2: 0.0841426\tvalid_0's average_precision: 0.454131\n[13]\tvalid_0's l2: 0.082706\tvalid_0's average_precision: 0.47229\n[14]\tvalid_0's l2: 0.0831025\tvalid_0's average_precision: 0.465068\n[15]\tvalid_0's l2: 0.0827101\tvalid_0's average_precision: 0.470095\n[16]\tvalid_0's l2: 0.0827164\tvalid_0's average_precision: 0.469353\n[17]\tvalid_0's l2: 0.0828053\tvalid_0's average_precision: 0.464281\n[18]\tvalid_0's l2: 0.0831987\tvalid_0's average_precision: 0.459577\n[19]\tvalid_0's l2: 0.0829932\tvalid_0's average_precision: 0.465192\n[20]\tvalid_0's l2: 0.0830459\tvalid_0's average_precision: 0.463802\n[21]\tvalid_0's l2: 0.0830942\tvalid_0's average_precision: 0.463382\n[22]\tvalid_0's l2: 0.0829065\tvalid_0's average_precision: 0.464287\n[23]\tvalid_0's l2: 0.0829208\tvalid_0's average_precision: 0.465151\n[24]\tvalid_0's l2: 0.0834851\tvalid_0's average_precision: 0.456754\n[25]\tvalid_0's l2: 0.0836262\tvalid_0's average_precision: 0.454507\n[26]\tvalid_0's l2: 0.0836554\tvalid_0's average_precision: 0.452097\n[27]\tvalid_0's l2: 0.0833852\tvalid_0's average_precision: 0.458936\n[28]\tvalid_0's l2: 0.0827537\tvalid_0's average_precision: 0.473112\n[29]\tvalid_0's l2: 0.0829283\tvalid_0's average_precision: 0.471107\n[30]\tvalid_0's l2: 0.0825717\tvalid_0's average_precision: 0.475426\n[31]\tvalid_0's l2: 0.0825025\tvalid_0's average_precision: 0.477963\n[32]\tvalid_0's l2: 0.0826157\tvalid_0's average_precision: 0.47667\n[33]\tvalid_0's l2: 0.0825761\tvalid_0's average_precision: 0.477577\n[34]\tvalid_0's l2: 0.082571\tvalid_0's average_precision: 0.477399\n[35]\tvalid_0's l2: 0.0821802\tvalid_0's average_precision: 0.481951\n[36]\tvalid_0's l2: 0.082\tvalid_0's average_precision: 0.48467\n[37]\tvalid_0's l2: 0.0819981\tvalid_0's average_precision: 0.484468\n[38]\tvalid_0's l2: 0.0824282\tvalid_0's average_precision: 0.480905\n[39]\tvalid_0's l2: 0.0825442\tvalid_0's average_precision: 0.479746\n[40]\tvalid_0's l2: 0.082338\tvalid_0's average_precision: 0.481718\n[41]\tvalid_0's l2: 0.0824923\tvalid_0's average_precision: 0.478805\n[42]\tvalid_0's l2: 0.0824775\tvalid_0's average_precision: 0.479037\n[43]\tvalid_0's l2: 0.0824935\tvalid_0's average_precision: 0.478916\n[44]\tvalid_0's l2: 0.083432\tvalid_0's average_precision: 0.468279\n[45]\tvalid_0's l2: 0.0833407\tvalid_0's average_precision: 0.468875\n[46]\tvalid_0's l2: 0.0833795\tvalid_0's average_precision: 0.468495\n[47]\tvalid_0's l2: 0.0833783\tvalid_0's average_precision: 0.468509\n[48]\tvalid_0's l2: 0.0832742\tvalid_0's average_precision: 0.467481\n[49]\tvalid_0's l2: 0.0835295\tvalid_0's average_precision: 0.463243\n[50]\tvalid_0's l2: 0.0834374\tvalid_0's average_precision: 0.463345\n[51]\tvalid_0's l2: 0.0834662\tvalid_0's average_precision: 0.462816\n[52]\tvalid_0's l2: 0.0835474\tvalid_0's average_precision: 0.461326\n[53]\tvalid_0's l2: 0.083565\tvalid_0's average_precision: 0.461229\n[54]\tvalid_0's l2: 0.0834207\tvalid_0's average_precision: 0.464619\n[55]\tvalid_0's l2: 0.0832519\tvalid_0's average_precision: 0.4651\n[56]\tvalid_0's l2: 0.08237\tvalid_0's average_precision: 0.478349\n[57]\tvalid_0's l2: 0.0828071\tvalid_0's average_precision: 0.473037\n[58]\tvalid_0's l2: 0.0829423\tvalid_0's average_precision: 0.471097\n[59]\tvalid_0's l2: 0.0829405\tvalid_0's average_precision: 0.471068\n[60]\tvalid_0's l2: 0.0829358\tvalid_0's average_precision: 0.470986\n[61]\tvalid_0's l2: 0.0828884\tvalid_0's average_precision: 0.471348\n",
          "output_type": "stream"
        },
        {
          "name": "stderr",
          "text": "/opt/conda/lib/python3.7/site-packages/lightgbm/sklearn.py:726: UserWarning: 'early_stopping_rounds' argument is deprecated and will be removed in a future release of LightGBM. Pass 'early_stopping()' callback via 'callbacks' argument instead.\n  _log_warning(\"'early_stopping_rounds' argument is deprecated and will be removed in a future release of LightGBM. \"\n",
          "output_type": "stream"
        },
        {
          "name": "stdout",
          "text": "[1]\tvalid_0's l2: 0.0045607\tvalid_0's average_precision: 0.00435174\n[2]\tvalid_0's l2: 0.00464928\tvalid_0's average_precision: 0.00803128\n[3]\tvalid_0's l2: 0.00473721\tvalid_0's average_precision: 0.00701041\n[4]\tvalid_0's l2: 0.0047209\tvalid_0's average_precision: 0.0107359\n[5]\tvalid_0's l2: 0.00473053\tvalid_0's average_precision: 0.0108073\n[6]\tvalid_0's l2: 0.00475515\tvalid_0's average_precision: 0.011071\n[7]\tvalid_0's l2: 0.00482182\tvalid_0's average_precision: 0.0100019\n[8]\tvalid_0's l2: 0.00483485\tvalid_0's average_precision: 0.0104586\n[9]\tvalid_0's l2: 0.0048682\tvalid_0's average_precision: 0.0100575\n[10]\tvalid_0's l2: 0.00488404\tvalid_0's average_precision: 0.00964209\n[11]\tvalid_0's l2: 0.00492262\tvalid_0's average_precision: 0.00958716\n[12]\tvalid_0's l2: 0.00496017\tvalid_0's average_precision: 0.00925865\n[13]\tvalid_0's l2: 0.00503431\tvalid_0's average_precision: 0.0100685\n[14]\tvalid_0's l2: 0.00507618\tvalid_0's average_precision: 0.00963351\n[15]\tvalid_0's l2: 0.00508245\tvalid_0's average_precision: 0.00951447\n[16]\tvalid_0's l2: 0.00512777\tvalid_0's average_precision: 0.00929973\n[17]\tvalid_0's l2: 0.00513089\tvalid_0's average_precision: 0.00931271\n[18]\tvalid_0's l2: 0.00512372\tvalid_0's average_precision: 0.00971852\n[19]\tvalid_0's l2: 0.00512599\tvalid_0's average_precision: 0.00973153\n[20]\tvalid_0's l2: 0.00511735\tvalid_0's average_precision: 0.00983268\n[21]\tvalid_0's l2: 0.00511573\tvalid_0's average_precision: 0.010745\n[22]\tvalid_0's l2: 0.00511765\tvalid_0's average_precision: 0.0107429\n[23]\tvalid_0's l2: 0.00516912\tvalid_0's average_precision: 0.0104269\n[24]\tvalid_0's l2: 0.00517331\tvalid_0's average_precision: 0.0103381\n[25]\tvalid_0's l2: 0.00516777\tvalid_0's average_precision: 0.0103466\n[26]\tvalid_0's l2: 0.00517606\tvalid_0's average_precision: 0.0103313\n",
          "output_type": "stream"
        },
        {
          "name": "stderr",
          "text": "/opt/conda/lib/python3.7/site-packages/lightgbm/sklearn.py:726: UserWarning: 'early_stopping_rounds' argument is deprecated and will be removed in a future release of LightGBM. Pass 'early_stopping()' callback via 'callbacks' argument instead.\n  _log_warning(\"'early_stopping_rounds' argument is deprecated and will be removed in a future release of LightGBM. \"\n",
          "output_type": "stream"
        },
        {
          "name": "stdout",
          "text": "[1]\tvalid_0's l2: 0.00125187\tvalid_0's average_precision: 0.000852595\n[2]\tvalid_0's l2: 0.00122417\tvalid_0's average_precision: 0.00760014\n[3]\tvalid_0's l2: 0.0013064\tvalid_0's average_precision: 0.00479268\n[4]\tvalid_0's l2: 0.00144027\tvalid_0's average_precision: 0.00429331\n[5]\tvalid_0's l2: 0.00139231\tvalid_0's average_precision: 0.00961691\n[6]\tvalid_0's l2: 0.00144247\tvalid_0's average_precision: 0.0124427\n[7]\tvalid_0's l2: 0.00145435\tvalid_0's average_precision: 0.0118658\n[8]\tvalid_0's l2: 0.00152303\tvalid_0's average_precision: 0.0113202\n[9]\tvalid_0's l2: 0.00157188\tvalid_0's average_precision: 0.0114948\n[10]\tvalid_0's l2: 0.00158552\tvalid_0's average_precision: 0.0113789\n[11]\tvalid_0's l2: 0.00156534\tvalid_0's average_precision: 0.0156995\n[12]\tvalid_0's l2: 0.00156085\tvalid_0's average_precision: 0.0173034\n[13]\tvalid_0's l2: 0.00159028\tvalid_0's average_precision: 0.0170594\n[14]\tvalid_0's l2: 0.00165266\tvalid_0's average_precision: 0.0174093\n[15]\tvalid_0's l2: 0.00167864\tvalid_0's average_precision: 0.018703\n[16]\tvalid_0's l2: 0.00179535\tvalid_0's average_precision: 0.0174211\n[17]\tvalid_0's l2: 0.00182498\tvalid_0's average_precision: 0.016871\n[18]\tvalid_0's l2: 0.00191162\tvalid_0's average_precision: 0.0151837\n[19]\tvalid_0's l2: 0.00191149\tvalid_0's average_precision: 0.0151852\n[20]\tvalid_0's l2: 0.00193665\tvalid_0's average_precision: 0.0149889\n[21]\tvalid_0's l2: 0.00194284\tvalid_0's average_precision: 0.0158241\n[22]\tvalid_0's l2: 0.00194995\tvalid_0's average_precision: 0.0158549\n[23]\tvalid_0's l2: 0.0019779\tvalid_0's average_precision: 0.0153502\n[24]\tvalid_0's l2: 0.00197632\tvalid_0's average_precision: 0.0153634\n[25]\tvalid_0's l2: 0.00199807\tvalid_0's average_precision: 0.0150893\n[26]\tvalid_0's l2: 0.00203148\tvalid_0's average_precision: 0.0141314\n[27]\tvalid_0's l2: 0.0020302\tvalid_0's average_precision: 0.0141088\n",
          "output_type": "stream"
        },
        {
          "name": "stderr",
          "text": "/opt/conda/lib/python3.7/site-packages/lightgbm/sklearn.py:726: UserWarning: 'early_stopping_rounds' argument is deprecated and will be removed in a future release of LightGBM. Pass 'early_stopping()' callback via 'callbacks' argument instead.\n  _log_warning(\"'early_stopping_rounds' argument is deprecated and will be removed in a future release of LightGBM. \"\n",
          "output_type": "stream"
        },
        {
          "name": "stdout",
          "text": "[1]\tvalid_0's l2: 0.0606403\tvalid_0's average_precision: 0.128216\n[2]\tvalid_0's l2: 0.0593771\tvalid_0's average_precision: 0.1386\n[3]\tvalid_0's l2: 0.059146\tvalid_0's average_precision: 0.134208\n[4]\tvalid_0's l2: 0.0595012\tvalid_0's average_precision: 0.128994\n[5]\tvalid_0's l2: 0.0589173\tvalid_0's average_precision: 0.148263\n[6]\tvalid_0's l2: 0.0585195\tvalid_0's average_precision: 0.159584\n[7]\tvalid_0's l2: 0.0582912\tvalid_0's average_precision: 0.163117\n[8]\tvalid_0's l2: 0.057981\tvalid_0's average_precision: 0.169384\n[9]\tvalid_0's l2: 0.0576062\tvalid_0's average_precision: 0.177133\n[10]\tvalid_0's l2: 0.0579876\tvalid_0's average_precision: 0.17382\n[11]\tvalid_0's l2: 0.0579178\tvalid_0's average_precision: 0.176081\n[12]\tvalid_0's l2: 0.0579434\tvalid_0's average_precision: 0.177352\n[13]\tvalid_0's l2: 0.0577931\tvalid_0's average_precision: 0.181561\n[14]\tvalid_0's l2: 0.057776\tvalid_0's average_precision: 0.184058\n[15]\tvalid_0's l2: 0.0578996\tvalid_0's average_precision: 0.183712\n[16]\tvalid_0's l2: 0.0579472\tvalid_0's average_precision: 0.186754\n[17]\tvalid_0's l2: 0.0578682\tvalid_0's average_precision: 0.188496\n[18]\tvalid_0's l2: 0.0579364\tvalid_0's average_precision: 0.187348\n[19]\tvalid_0's l2: 0.0579676\tvalid_0's average_precision: 0.186614\n[20]\tvalid_0's l2: 0.0577545\tvalid_0's average_precision: 0.190075\n[21]\tvalid_0's l2: 0.0576163\tvalid_0's average_precision: 0.193006\n[22]\tvalid_0's l2: 0.057751\tvalid_0's average_precision: 0.190621\n[23]\tvalid_0's l2: 0.0576872\tvalid_0's average_precision: 0.191728\n[24]\tvalid_0's l2: 0.0575948\tvalid_0's average_precision: 0.193128\n[25]\tvalid_0's l2: 0.0576976\tvalid_0's average_precision: 0.191822\n[26]\tvalid_0's l2: 0.0579549\tvalid_0's average_precision: 0.186417\n[27]\tvalid_0's l2: 0.0578322\tvalid_0's average_precision: 0.188122\n[28]\tvalid_0's l2: 0.0578313\tvalid_0's average_precision: 0.188202\n[29]\tvalid_0's l2: 0.0580256\tvalid_0's average_precision: 0.187273\n[30]\tvalid_0's l2: 0.0580696\tvalid_0's average_precision: 0.186886\n[31]\tvalid_0's l2: 0.0577467\tvalid_0's average_precision: 0.191396\n[32]\tvalid_0's l2: 0.0577818\tvalid_0's average_precision: 0.190707\n[33]\tvalid_0's l2: 0.057695\tvalid_0's average_precision: 0.192123\n[34]\tvalid_0's l2: 0.0576726\tvalid_0's average_precision: 0.192495\n[35]\tvalid_0's l2: 0.0576585\tvalid_0's average_precision: 0.193282\n[36]\tvalid_0's l2: 0.057661\tvalid_0's average_precision: 0.193731\n[37]\tvalid_0's l2: 0.0576136\tvalid_0's average_precision: 0.194428\n[38]\tvalid_0's l2: 0.0578445\tvalid_0's average_precision: 0.191665\n[39]\tvalid_0's l2: 0.057924\tvalid_0's average_precision: 0.190419\n[40]\tvalid_0's l2: 0.0578915\tvalid_0's average_precision: 0.192056\n[41]\tvalid_0's l2: 0.0579083\tvalid_0's average_precision: 0.193515\n[42]\tvalid_0's l2: 0.0579135\tvalid_0's average_precision: 0.193669\n[43]\tvalid_0's l2: 0.05802\tvalid_0's average_precision: 0.19247\n[44]\tvalid_0's l2: 0.0580416\tvalid_0's average_precision: 0.192366\n[45]\tvalid_0's l2: 0.0580514\tvalid_0's average_precision: 0.192141\n[46]\tvalid_0's l2: 0.0579321\tvalid_0's average_precision: 0.194573\n[47]\tvalid_0's l2: 0.0579268\tvalid_0's average_precision: 0.194656\n[48]\tvalid_0's l2: 0.0578984\tvalid_0's average_precision: 0.194793\n[49]\tvalid_0's l2: 0.057873\tvalid_0's average_precision: 0.195385\n",
          "output_type": "stream"
        },
        {
          "name": "stderr",
          "text": "/opt/conda/lib/python3.7/site-packages/lightgbm/sklearn.py:726: UserWarning: 'early_stopping_rounds' argument is deprecated and will be removed in a future release of LightGBM. Pass 'early_stopping()' callback via 'callbacks' argument instead.\n  _log_warning(\"'early_stopping_rounds' argument is deprecated and will be removed in a future release of LightGBM. \"\n",
          "output_type": "stream"
        },
        {
          "name": "stdout",
          "text": "[1]\tvalid_0's l2: 0.00186685\tvalid_0's average_precision: 0.00179524\n[2]\tvalid_0's l2: 0.00191979\tvalid_0's average_precision: 0.00213067\n[3]\tvalid_0's l2: 0.00193105\tvalid_0's average_precision: 0.00196683\n[4]\tvalid_0's l2: 0.00191757\tvalid_0's average_precision: 0.0044933\n[5]\tvalid_0's l2: 0.00191371\tvalid_0's average_precision: 0.00520651\n[6]\tvalid_0's l2: 0.00194498\tvalid_0's average_precision: 0.00445344\n[7]\tvalid_0's l2: 0.00195076\tvalid_0's average_precision: 0.00420416\n[8]\tvalid_0's l2: 0.00196008\tvalid_0's average_precision: 0.00498241\n[9]\tvalid_0's l2: 0.00195086\tvalid_0's average_precision: 0.00549779\n[10]\tvalid_0's l2: 0.00198548\tvalid_0's average_precision: 0.00511221\n[11]\tvalid_0's l2: 0.00198449\tvalid_0's average_precision: 0.00502178\n[12]\tvalid_0's l2: 0.00200863\tvalid_0's average_precision: 0.00527265\n[13]\tvalid_0's l2: 0.00201194\tvalid_0's average_precision: 0.00512148\n[14]\tvalid_0's l2: 0.00208032\tvalid_0's average_precision: 0.00443842\n[15]\tvalid_0's l2: 0.00209517\tvalid_0's average_precision: 0.00434772\n[16]\tvalid_0's l2: 0.00210143\tvalid_0's average_precision: 0.00404666\n[17]\tvalid_0's l2: 0.00210197\tvalid_0's average_precision: 0.00408285\n[18]\tvalid_0's l2: 0.00214186\tvalid_0's average_precision: 0.00400151\n[19]\tvalid_0's l2: 0.00220021\tvalid_0's average_precision: 0.00386439\n[20]\tvalid_0's l2: 0.00221221\tvalid_0's average_precision: 0.00386608\n[21]\tvalid_0's l2: 0.00221108\tvalid_0's average_precision: 0.00387048\n[22]\tvalid_0's l2: 0.00221369\tvalid_0's average_precision: 0.00407041\n[23]\tvalid_0's l2: 0.00221436\tvalid_0's average_precision: 0.00406224\n[24]\tvalid_0's l2: 0.00221904\tvalid_0's average_precision: 0.00402006\n[25]\tvalid_0's l2: 0.00221699\tvalid_0's average_precision: 0.00402269\n[26]\tvalid_0's l2: 0.00224258\tvalid_0's average_precision: 0.00404933\n",
          "output_type": "stream"
        },
        {
          "name": "stderr",
          "text": "/opt/conda/lib/python3.7/site-packages/lightgbm/sklearn.py:726: UserWarning: 'early_stopping_rounds' argument is deprecated and will be removed in a future release of LightGBM. Pass 'early_stopping()' callback via 'callbacks' argument instead.\n  _log_warning(\"'early_stopping_rounds' argument is deprecated and will be removed in a future release of LightGBM. \"\n",
          "output_type": "stream"
        },
        {
          "name": "stdout",
          "text": "[1]\tvalid_0's l2: 0.00595123\tvalid_0's average_precision: 0.00666547\n[2]\tvalid_0's l2: 0.00593268\tvalid_0's average_precision: 0.0103096\n[3]\tvalid_0's l2: 0.00604771\tvalid_0's average_precision: 0.0089589\n[4]\tvalid_0's l2: 0.00607448\tvalid_0's average_precision: 0.00944127\n[5]\tvalid_0's l2: 0.00613834\tvalid_0's average_precision: 0.010059\n[6]\tvalid_0's l2: 0.00618078\tvalid_0's average_precision: 0.00842617\n[7]\tvalid_0's l2: 0.00615531\tvalid_0's average_precision: 0.0288988\n[8]\tvalid_0's l2: 0.00621712\tvalid_0's average_precision: 0.0271284\n[9]\tvalid_0's l2: 0.00625728\tvalid_0's average_precision: 0.0255575\n[10]\tvalid_0's l2: 0.00626175\tvalid_0's average_precision: 0.0259201\n[11]\tvalid_0's l2: 0.00630595\tvalid_0's average_precision: 0.0250381\n[12]\tvalid_0's l2: 0.00631054\tvalid_0's average_precision: 0.0259512\n[13]\tvalid_0's l2: 0.00633045\tvalid_0's average_precision: 0.0250572\n[14]\tvalid_0's l2: 0.00632966\tvalid_0's average_precision: 0.0255508\n[15]\tvalid_0's l2: 0.00633086\tvalid_0's average_precision: 0.0235034\n[16]\tvalid_0's l2: 0.0063068\tvalid_0's average_precision: 0.0219676\n[17]\tvalid_0's l2: 0.00631103\tvalid_0's average_precision: 0.0222472\n[18]\tvalid_0's l2: 0.00630976\tvalid_0's average_precision: 0.0215877\n[19]\tvalid_0's l2: 0.00631347\tvalid_0's average_precision: 0.0215823\n[20]\tvalid_0's l2: 0.00631395\tvalid_0's average_precision: 0.0230322\n[21]\tvalid_0's l2: 0.00634641\tvalid_0's average_precision: 0.0227173\n[22]\tvalid_0's l2: 0.00634415\tvalid_0's average_precision: 0.0238363\n[23]\tvalid_0's l2: 0.0063444\tvalid_0's average_precision: 0.0238346\n[24]\tvalid_0's l2: 0.00634287\tvalid_0's average_precision: 0.0242257\n[25]\tvalid_0's l2: 0.00634531\tvalid_0's average_precision: 0.0242426\n[26]\tvalid_0's l2: 0.00635157\tvalid_0's average_precision: 0.0243226\n[27]\tvalid_0's l2: 0.00635809\tvalid_0's average_precision: 0.024177\n",
          "output_type": "stream"
        },
        {
          "name": "stderr",
          "text": "/opt/conda/lib/python3.7/site-packages/lightgbm/sklearn.py:726: UserWarning: 'early_stopping_rounds' argument is deprecated and will be removed in a future release of LightGBM. Pass 'early_stopping()' callback via 'callbacks' argument instead.\n  _log_warning(\"'early_stopping_rounds' argument is deprecated and will be removed in a future release of LightGBM. \"\n",
          "output_type": "stream"
        },
        {
          "name": "stdout",
          "text": "[1]\tvalid_0's l2: 0.0736212\tvalid_0's average_precision: 0.346709\n[2]\tvalid_0's l2: 0.0696099\tvalid_0's average_precision: 0.363309\n[3]\tvalid_0's l2: 0.0686395\tvalid_0's average_precision: 0.352254\n[4]\tvalid_0's l2: 0.0664482\tvalid_0's average_precision: 0.384912\n[5]\tvalid_0's l2: 0.0660143\tvalid_0's average_precision: 0.376377\n[6]\tvalid_0's l2: 0.0654939\tvalid_0's average_precision: 0.37837\n[7]\tvalid_0's l2: 0.0643628\tvalid_0's average_precision: 0.403049\n[8]\tvalid_0's l2: 0.063979\tvalid_0's average_precision: 0.401369\n[9]\tvalid_0's l2: 0.0635944\tvalid_0's average_precision: 0.410878\n[10]\tvalid_0's l2: 0.0633216\tvalid_0's average_precision: 0.423511\n[11]\tvalid_0's l2: 0.0636045\tvalid_0's average_precision: 0.416684\n[12]\tvalid_0's l2: 0.0637078\tvalid_0's average_precision: 0.418914\n[13]\tvalid_0's l2: 0.0637822\tvalid_0's average_precision: 0.417953\n[14]\tvalid_0's l2: 0.0641705\tvalid_0's average_precision: 0.406663\n[15]\tvalid_0's l2: 0.0640478\tvalid_0's average_precision: 0.415984\n[16]\tvalid_0's l2: 0.0641054\tvalid_0's average_precision: 0.414812\n[17]\tvalid_0's l2: 0.0640876\tvalid_0's average_precision: 0.429424\n[18]\tvalid_0's l2: 0.0646981\tvalid_0's average_precision: 0.410966\n[19]\tvalid_0's l2: 0.0647917\tvalid_0's average_precision: 0.410702\n[20]\tvalid_0's l2: 0.0648634\tvalid_0's average_precision: 0.40805\n[21]\tvalid_0's l2: 0.0647691\tvalid_0's average_precision: 0.409116\n[22]\tvalid_0's l2: 0.0648458\tvalid_0's average_precision: 0.405597\n[23]\tvalid_0's l2: 0.0647722\tvalid_0's average_precision: 0.404149\n[24]\tvalid_0's l2: 0.0646759\tvalid_0's average_precision: 0.4107\n[25]\tvalid_0's l2: 0.0648147\tvalid_0's average_precision: 0.408387\n[26]\tvalid_0's l2: 0.0648545\tvalid_0's average_precision: 0.408096\n[27]\tvalid_0's l2: 0.0649002\tvalid_0's average_precision: 0.407958\n[28]\tvalid_0's l2: 0.064948\tvalid_0's average_precision: 0.407419\n[29]\tvalid_0's l2: 0.0650066\tvalid_0's average_precision: 0.407261\n[30]\tvalid_0's l2: 0.0650544\tvalid_0's average_precision: 0.405783\n[31]\tvalid_0's l2: 0.0651535\tvalid_0's average_precision: 0.404927\n[32]\tvalid_0's l2: 0.0652945\tvalid_0's average_precision: 0.40419\n[33]\tvalid_0's l2: 0.0652471\tvalid_0's average_precision: 0.407907\n[34]\tvalid_0's l2: 0.0651457\tvalid_0's average_precision: 0.411868\n[35]\tvalid_0's l2: 0.0652416\tvalid_0's average_precision: 0.409516\n",
          "output_type": "stream"
        },
        {
          "name": "stderr",
          "text": "/opt/conda/lib/python3.7/site-packages/lightgbm/sklearn.py:726: UserWarning: 'early_stopping_rounds' argument is deprecated and will be removed in a future release of LightGBM. Pass 'early_stopping()' callback via 'callbacks' argument instead.\n  _log_warning(\"'early_stopping_rounds' argument is deprecated and will be removed in a future release of LightGBM. \"\n",
          "output_type": "stream"
        },
        {
          "name": "stdout",
          "text": "[1]\tvalid_0's l2: 0.0258285\tvalid_0's average_precision: 0.0282626\n[2]\tvalid_0's l2: 0.0258768\tvalid_0's average_precision: 0.0268687\n[3]\tvalid_0's l2: 0.0260275\tvalid_0's average_precision: 0.030038\n[4]\tvalid_0's l2: 0.026069\tvalid_0's average_precision: 0.0307277\n[5]\tvalid_0's l2: 0.0261257\tvalid_0's average_precision: 0.0315371\n[6]\tvalid_0's l2: 0.0261672\tvalid_0's average_precision: 0.0340027\n[7]\tvalid_0's l2: 0.0261778\tvalid_0's average_precision: 0.0326199\n[8]\tvalid_0's l2: 0.0261859\tvalid_0's average_precision: 0.0364253\n[9]\tvalid_0's l2: 0.0261374\tvalid_0's average_precision: 0.0372395\n[10]\tvalid_0's l2: 0.026152\tvalid_0's average_precision: 0.0356289\n[11]\tvalid_0's l2: 0.0261649\tvalid_0's average_precision: 0.0376296\n[12]\tvalid_0's l2: 0.0261722\tvalid_0's average_precision: 0.0374357\n[13]\tvalid_0's l2: 0.0261779\tvalid_0's average_precision: 0.0378751\n[14]\tvalid_0's l2: 0.0261845\tvalid_0's average_precision: 0.0372776\n[15]\tvalid_0's l2: 0.0261692\tvalid_0's average_precision: 0.0374557\n[16]\tvalid_0's l2: 0.0261733\tvalid_0's average_precision: 0.0371673\n[17]\tvalid_0's l2: 0.0261189\tvalid_0's average_precision: 0.0447103\n[18]\tvalid_0's l2: 0.0261248\tvalid_0's average_precision: 0.0442866\n[19]\tvalid_0's l2: 0.026132\tvalid_0's average_precision: 0.0452458\n[20]\tvalid_0's l2: 0.0261343\tvalid_0's average_precision: 0.0453261\n[21]\tvalid_0's l2: 0.0261355\tvalid_0's average_precision: 0.0456939\n[22]\tvalid_0's l2: 0.0261904\tvalid_0's average_precision: 0.044144\n[23]\tvalid_0's l2: 0.0261906\tvalid_0's average_precision: 0.0434151\n[24]\tvalid_0's l2: 0.0261898\tvalid_0's average_precision: 0.0443847\n[25]\tvalid_0's l2: 0.0261916\tvalid_0's average_precision: 0.0442307\n[26]\tvalid_0's l2: 0.026192\tvalid_0's average_precision: 0.0442417\n",
          "output_type": "stream"
        },
        {
          "name": "stderr",
          "text": "/opt/conda/lib/python3.7/site-packages/lightgbm/sklearn.py:726: UserWarning: 'early_stopping_rounds' argument is deprecated and will be removed in a future release of LightGBM. Pass 'early_stopping()' callback via 'callbacks' argument instead.\n  _log_warning(\"'early_stopping_rounds' argument is deprecated and will be removed in a future release of LightGBM. \"\n",
          "output_type": "stream"
        },
        {
          "name": "stdout",
          "text": "[1]\tvalid_0's l2: 0.000674703\tvalid_0's average_precision: 0.000449729\n[2]\tvalid_0's l2: 0.000660686\tvalid_0's average_precision: 0.00247584\n[3]\tvalid_0's l2: 0.000759889\tvalid_0's average_precision: 0.00170041\n[4]\tvalid_0's l2: 0.00086684\tvalid_0's average_precision: 0.00179165\n[5]\tvalid_0's l2: 0.000956294\tvalid_0's average_precision: 0.00171133\n[6]\tvalid_0's l2: 0.000988506\tvalid_0's average_precision: 0.00148669\n[7]\tvalid_0's l2: 0.00104514\tvalid_0's average_precision: 0.00280146\n[8]\tvalid_0's l2: 0.0011483\tvalid_0's average_precision: 0.00312858\n[9]\tvalid_0's l2: 0.00114481\tvalid_0's average_precision: 0.00325083\n[10]\tvalid_0's l2: 0.00113933\tvalid_0's average_precision: 0.00325317\n[11]\tvalid_0's l2: 0.00117708\tvalid_0's average_precision: 0.00307577\n[12]\tvalid_0's l2: 0.00117389\tvalid_0's average_precision: 0.00338806\n[13]\tvalid_0's l2: 0.00117714\tvalid_0's average_precision: 0.00340618\n[14]\tvalid_0's l2: 0.00119458\tvalid_0's average_precision: 0.00327532\n[15]\tvalid_0's l2: 0.00121005\tvalid_0's average_precision: 0.00322276\n[16]\tvalid_0's l2: 0.00125904\tvalid_0's average_precision: 0.00312966\n[17]\tvalid_0's l2: 0.00127721\tvalid_0's average_precision: 0.00300869\n[18]\tvalid_0's l2: 0.0012753\tvalid_0's average_precision: 0.00296623\n[19]\tvalid_0's l2: 0.00128412\tvalid_0's average_precision: 0.00270197\n[20]\tvalid_0's l2: 0.0012847\tvalid_0's average_precision: 0.00263655\n[21]\tvalid_0's l2: 0.00128146\tvalid_0's average_precision: 0.00264716\n[22]\tvalid_0's l2: 0.00131086\tvalid_0's average_precision: 0.00264602\n[23]\tvalid_0's l2: 0.00129501\tvalid_0's average_precision: 0.00255635\n[24]\tvalid_0's l2: 0.00130044\tvalid_0's average_precision: 0.00260992\n[25]\tvalid_0's l2: 0.00129585\tvalid_0's average_precision: 0.00262169\n[26]\tvalid_0's l2: 0.00129615\tvalid_0's average_precision: 0.00262585\n[27]\tvalid_0's l2: 0.00129546\tvalid_0's average_precision: 0.00270011\n",
          "output_type": "stream"
        },
        {
          "name": "stderr",
          "text": "/opt/conda/lib/python3.7/site-packages/lightgbm/sklearn.py:726: UserWarning: 'early_stopping_rounds' argument is deprecated and will be removed in a future release of LightGBM. Pass 'early_stopping()' callback via 'callbacks' argument instead.\n  _log_warning(\"'early_stopping_rounds' argument is deprecated and will be removed in a future release of LightGBM. \"\n",
          "output_type": "stream"
        },
        {
          "name": "stdout",
          "text": "[1]\tvalid_0's l2: 0.0482938\tvalid_0's average_precision: 0.1128\n[2]\tvalid_0's l2: 0.0462838\tvalid_0's average_precision: 0.138812\n[3]\tvalid_0's l2: 0.0448674\tvalid_0's average_precision: 0.159653\n[4]\tvalid_0's l2: 0.0447092\tvalid_0's average_precision: 0.14714\n[5]\tvalid_0's l2: 0.044362\tvalid_0's average_precision: 0.157904\n[6]\tvalid_0's l2: 0.0439967\tvalid_0's average_precision: 0.160526\n[7]\tvalid_0's l2: 0.0436751\tvalid_0's average_precision: 0.174608\n[8]\tvalid_0's l2: 0.043162\tvalid_0's average_precision: 0.191334\n[9]\tvalid_0's l2: 0.0427469\tvalid_0's average_precision: 0.208578\n[10]\tvalid_0's l2: 0.0429486\tvalid_0's average_precision: 0.202725\n[11]\tvalid_0's l2: 0.0429609\tvalid_0's average_precision: 0.205033\n[12]\tvalid_0's l2: 0.0428489\tvalid_0's average_precision: 0.211956\n[13]\tvalid_0's l2: 0.042627\tvalid_0's average_precision: 0.218156\n[14]\tvalid_0's l2: 0.0429248\tvalid_0's average_precision: 0.214873\n[15]\tvalid_0's l2: 0.042881\tvalid_0's average_precision: 0.216268\n[16]\tvalid_0's l2: 0.0428294\tvalid_0's average_precision: 0.218206\n[17]\tvalid_0's l2: 0.0428443\tvalid_0's average_precision: 0.217448\n[18]\tvalid_0's l2: 0.0429285\tvalid_0's average_precision: 0.221969\n[19]\tvalid_0's l2: 0.0430641\tvalid_0's average_precision: 0.22004\n[20]\tvalid_0's l2: 0.0431351\tvalid_0's average_precision: 0.219779\n[21]\tvalid_0's l2: 0.0431914\tvalid_0's average_precision: 0.218824\n[22]\tvalid_0's l2: 0.0430353\tvalid_0's average_precision: 0.224802\n[23]\tvalid_0's l2: 0.0430017\tvalid_0's average_precision: 0.225239\n[24]\tvalid_0's l2: 0.0429258\tvalid_0's average_precision: 0.226757\n[25]\tvalid_0's l2: 0.043013\tvalid_0's average_precision: 0.226691\n[26]\tvalid_0's l2: 0.0430017\tvalid_0's average_precision: 0.227515\n[27]\tvalid_0's l2: 0.0431457\tvalid_0's average_precision: 0.224627\n[28]\tvalid_0's l2: 0.0431663\tvalid_0's average_precision: 0.223731\n[29]\tvalid_0's l2: 0.0431384\tvalid_0's average_precision: 0.22365\n[30]\tvalid_0's l2: 0.043151\tvalid_0's average_precision: 0.223933\n[31]\tvalid_0's l2: 0.0432735\tvalid_0's average_precision: 0.222872\n[32]\tvalid_0's l2: 0.0433256\tvalid_0's average_precision: 0.222609\n[33]\tvalid_0's l2: 0.0432977\tvalid_0's average_precision: 0.222959\n[34]\tvalid_0's l2: 0.0433268\tvalid_0's average_precision: 0.222588\n[35]\tvalid_0's l2: 0.043334\tvalid_0's average_precision: 0.222351\n[36]\tvalid_0's l2: 0.0433942\tvalid_0's average_precision: 0.220785\n[37]\tvalid_0's l2: 0.0434787\tvalid_0's average_precision: 0.219291\n[38]\tvalid_0's l2: 0.0434964\tvalid_0's average_precision: 0.218827\n",
          "output_type": "stream"
        },
        {
          "name": "stderr",
          "text": "/opt/conda/lib/python3.7/site-packages/lightgbm/sklearn.py:726: UserWarning: 'early_stopping_rounds' argument is deprecated and will be removed in a future release of LightGBM. Pass 'early_stopping()' callback via 'callbacks' argument instead.\n  _log_warning(\"'early_stopping_rounds' argument is deprecated and will be removed in a future release of LightGBM. \"\n",
          "output_type": "stream"
        },
        {
          "name": "stdout",
          "text": "[1]\tvalid_0's l2: 0.00400057\tvalid_0's average_precision: 0.00385985\n[2]\tvalid_0's l2: 0.00396406\tvalid_0's average_precision: 0.00387511\n[3]\tvalid_0's l2: 0.00391198\tvalid_0's average_precision: 0.0131731\n[4]\tvalid_0's l2: 0.00390745\tvalid_0's average_precision: 0.0107293\n[5]\tvalid_0's l2: 0.00389207\tvalid_0's average_precision: 0.0137054\n[6]\tvalid_0's l2: 0.00391876\tvalid_0's average_precision: 0.012668\n[7]\tvalid_0's l2: 0.004079\tvalid_0's average_precision: 0.0118554\n[8]\tvalid_0's l2: 0.00417181\tvalid_0's average_precision: 0.0113272\n[9]\tvalid_0's l2: 0.00417171\tvalid_0's average_precision: 0.00996377\n[10]\tvalid_0's l2: 0.00433135\tvalid_0's average_precision: 0.0102894\n[11]\tvalid_0's l2: 0.00431866\tvalid_0's average_precision: 0.0106053\n[12]\tvalid_0's l2: 0.0043249\tvalid_0's average_precision: 0.00981838\n[13]\tvalid_0's l2: 0.00435425\tvalid_0's average_precision: 0.00938794\n[14]\tvalid_0's l2: 0.00446881\tvalid_0's average_precision: 0.00921399\n[15]\tvalid_0's l2: 0.00447765\tvalid_0's average_precision: 0.00941007\n[16]\tvalid_0's l2: 0.00447762\tvalid_0's average_precision: 0.00939626\n[17]\tvalid_0's l2: 0.00448747\tvalid_0's average_precision: 0.00945719\n[18]\tvalid_0's l2: 0.00449224\tvalid_0's average_precision: 0.0095483\n[19]\tvalid_0's l2: 0.00452724\tvalid_0's average_precision: 0.0096961\n[20]\tvalid_0's l2: 0.0045291\tvalid_0's average_precision: 0.0095115\n[21]\tvalid_0's l2: 0.00455253\tvalid_0's average_precision: 0.00847794\n[22]\tvalid_0's l2: 0.00461094\tvalid_0's average_precision: 0.00848457\n[23]\tvalid_0's l2: 0.00461227\tvalid_0's average_precision: 0.00882461\n[24]\tvalid_0's l2: 0.00462674\tvalid_0's average_precision: 0.00889829\n[25]\tvalid_0's l2: 0.00464489\tvalid_0's average_precision: 0.00857682\n[26]\tvalid_0's l2: 0.00466417\tvalid_0's average_precision: 0.00855814\n[27]\tvalid_0's l2: 0.00464953\tvalid_0's average_precision: 0.00853644\n[28]\tvalid_0's l2: 0.00466724\tvalid_0's average_precision: 0.00850062\n[29]\tvalid_0's l2: 0.00467493\tvalid_0's average_precision: 0.00864343\n[30]\tvalid_0's l2: 0.00472562\tvalid_0's average_precision: 0.00852327\n[0.32610465261355376, 0.19420983231482436, 0.06750522838385811, 0.15402756803424242, 0.07811225434570733]\n",
          "output_type": "stream"
        }
      ]
    },
    {
      "cell_type": "markdown",
      "source": [
        "## Predict for test"
      ],
      "metadata": {
        "id": "NZeX7ggiTDcC"
      }
    },
    {
      "cell_type": "code",
      "source": [
        "import pandas as pd\n",
        "import numpy as np\n",
        "\n",
        "def preprocess_df(df, tasks, metadata):\n",
        "    df.set_index('Time', inplace=True)\n",
        "    df['Id'] = df['Id'].str.split('/').str[-1].str.split('.').str[0]\n",
        "    df['Time_frac'] = df.index / df.index.max()\n",
        "    df = pd.merge(df, tasks[['Id', 't_kmeans']], on='Id', how='left').fillna(-1)\n",
        "    df = pd.merge(df, metadata[['Id', 'Subject', 'Visit', 'Test', 'Medication', 's_kmeans']], on='Id', how='left').fillna(-1)\n",
        "    features = fc.calculate(df, return_df=True, include_final_window=True, approve_sparsity=True, window_idx=\"begin\")\n",
        "    df = pd.concat([df, features], axis=1).fillna(method='ffill')\n",
        "    return df\n",
        "\n",
        "def predict(df, N_FOLDS, regressors, columns, prediction_cols, selected_cols):\n",
        "    predictions = []\n",
        "    for i in range(N_FOLDS):\n",
        "        pred = np.round(regressors[i].predict(df[columns]).clip(0.0, 1.0), 3)\n",
        "        predictions.append(np.expand_dims(pred, axis=2))\n",
        "    mean_predictions = np.mean(np.concatenate(predictions, axis=2), axis=2)\n",
        "    results = pd.DataFrame(mean_predictions, columns=prediction_cols)\n",
        "    df = pd.concat([df, results], axis=1)\n",
        "    df['Id'] = df['Id'].astype(str) + '_' + df.index.astype(str)\n",
        "    return df[selected_cols]\n",
        "\n",
        "def create_submission(test, fc, tasks, metadata, N_FOLDS, regressors, columns, prediction_cols, selected_cols):\n",
        "    sub = pd.DataFrame()\n",
        "    sub['t'] = 0\n",
        "    submission = []\n",
        "    for file in test:\n",
        "        df = pd.read_csv(file)\n",
        "        df = preprocess_df(df, tasks, metadata)\n",
        "        df_selected = predict(df, N_FOLDS, regressors, columns, prediction_cols, selected_cols)\n",
        "        submission.append(df_selected)\n",
        "    submission = pd.concat(submission)\n",
        "    submission = pd.merge(sub[['Id']], submission, how='left', on='Id').fillna(0.0)\n",
        "    submission[selected_cols].to_csv('submission.csv', index=False)\n",
        "\n",
        "\n",
        "create_submission(test, fc, tasks, metadata, N_FOLDS, regressors, columns, prediction_cols, selected_cols)\n"
      ],
      "metadata": {
        "execution": {
          "iopub.status.busy": "2023-04-17T02:44:01.846432Z",
          "iopub.execute_input": "2023-04-17T02:44:01.846772Z",
          "iopub.status.idle": "2023-04-17T02:44:10.639983Z",
          "shell.execute_reply.started": "2023-04-17T02:44:01.846738Z",
          "shell.execute_reply": "2023-04-17T02:44:10.638389Z"
        },
        "trusted": true,
        "id": "Xi02CrLWTDcC"
      },
      "execution_count": null,
      "outputs": []
    },
    {
      "cell_type": "code",
      "source": [
        "submission"
      ],
      "metadata": {
        "execution": {
          "iopub.status.busy": "2023-04-17T02:44:10.642302Z",
          "iopub.execute_input": "2023-04-17T02:44:10.642795Z",
          "iopub.status.idle": "2023-04-17T02:44:10.663259Z",
          "shell.execute_reply.started": "2023-04-17T02:44:10.642737Z",
          "shell.execute_reply": "2023-04-17T02:44:10.662012Z"
        },
        "trusted": true,
        "id": "zVGdnTr-TDcD",
        "outputId": "6d14330b-9f1e-4027-d572-8eb11f118069"
      },
      "execution_count": null,
      "outputs": [
        {
          "execution_count": 18,
          "output_type": "execute_result",
          "data": {
            "text/plain": "                       Id  StartHesitation    Turn  Walking\n0            003f117e14_0           0.0314  0.0112   0.0108\n1            003f117e14_1           0.0314  0.0112   0.0108\n2            003f117e14_2           0.0314  0.0112   0.0108\n3            003f117e14_3           0.0314  0.0112   0.0108\n4            003f117e14_4           0.0314  0.0112   0.0108\n...                   ...              ...     ...      ...\n286365  02ab235146_281683           0.0088  0.0272   0.0116\n286366  02ab235146_281684           0.0088  0.0272   0.0116\n286367  02ab235146_281685           0.0088  0.0272   0.0116\n286368  02ab235146_281686           0.0088  0.0272   0.0116\n286369  02ab235146_281687           0.0088  0.0272   0.0116\n\n[286370 rows x 4 columns]",
            "text/html": "<div>\n<style scoped>\n    .dataframe tbody tr th:only-of-type {\n        vertical-align: middle;\n    }\n\n    .dataframe tbody tr th {\n        vertical-align: top;\n    }\n\n    .dataframe thead th {\n        text-align: right;\n    }\n</style>\n<table border=\"1\" class=\"dataframe\">\n  <thead>\n    <tr style=\"text-align: right;\">\n      <th></th>\n      <th>Id</th>\n      <th>StartHesitation</th>\n      <th>Turn</th>\n      <th>Walking</th>\n    </tr>\n  </thead>\n  <tbody>\n    <tr>\n      <th>0</th>\n      <td>003f117e14_0</td>\n      <td>0.0314</td>\n      <td>0.0112</td>\n      <td>0.0108</td>\n    </tr>\n    <tr>\n      <th>1</th>\n      <td>003f117e14_1</td>\n      <td>0.0314</td>\n      <td>0.0112</td>\n      <td>0.0108</td>\n    </tr>\n    <tr>\n      <th>2</th>\n      <td>003f117e14_2</td>\n      <td>0.0314</td>\n      <td>0.0112</td>\n      <td>0.0108</td>\n    </tr>\n    <tr>\n      <th>3</th>\n      <td>003f117e14_3</td>\n      <td>0.0314</td>\n      <td>0.0112</td>\n      <td>0.0108</td>\n    </tr>\n    <tr>\n      <th>4</th>\n      <td>003f117e14_4</td>\n      <td>0.0314</td>\n      <td>0.0112</td>\n      <td>0.0108</td>\n    </tr>\n    <tr>\n      <th>...</th>\n      <td>...</td>\n      <td>...</td>\n      <td>...</td>\n      <td>...</td>\n    </tr>\n    <tr>\n      <th>286365</th>\n      <td>02ab235146_281683</td>\n      <td>0.0088</td>\n      <td>0.0272</td>\n      <td>0.0116</td>\n    </tr>\n    <tr>\n      <th>286366</th>\n      <td>02ab235146_281684</td>\n      <td>0.0088</td>\n      <td>0.0272</td>\n      <td>0.0116</td>\n    </tr>\n    <tr>\n      <th>286367</th>\n      <td>02ab235146_281685</td>\n      <td>0.0088</td>\n      <td>0.0272</td>\n      <td>0.0116</td>\n    </tr>\n    <tr>\n      <th>286368</th>\n      <td>02ab235146_281686</td>\n      <td>0.0088</td>\n      <td>0.0272</td>\n      <td>0.0116</td>\n    </tr>\n    <tr>\n      <th>286369</th>\n      <td>02ab235146_281687</td>\n      <td>0.0088</td>\n      <td>0.0272</td>\n      <td>0.0116</td>\n    </tr>\n  </tbody>\n</table>\n<p>286370 rows × 4 columns</p>\n</div>"
          },
          "metadata": {}
        }
      ]
    }
  ]
}